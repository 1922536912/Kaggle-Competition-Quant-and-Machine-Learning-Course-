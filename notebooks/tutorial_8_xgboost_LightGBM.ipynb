{
 "cells": [
  {
   "cell_type": "markdown",
   "id": "cb9f0725-c17e-4abe-a325-0210bbbfdab2",
   "metadata": {},
   "source": [
    "# Kaggle Competition - Quant & Machine Learning Course\n",
    "# Tutorial 8: Xgboost &  Light GBM\n",
    "- modified based on https://www.analyticsvidhya.com/blog/2017/06/which-algorithm-takes-the-crown-light-gbm-vs-xgboost/\n",
    "- algorithm overview https://www.kaggle.com/prashant111/lightgbm-classifier-in-python"
   ]
  },
  {
   "cell_type": "code",
   "execution_count": 1,
   "id": "16b09bf7-2fd6-47d8-ace1-5a8c83951c84",
   "metadata": {},
   "outputs": [],
   "source": [
    "# https://github.com/scikit-learn/scikit-learn/issues/12939#issuecomment-512057853\n",
    "import os\n",
    "os.environ[\"PYTHONWARNINGS\"] = \"ignore::UserWarning\"\n",
    "\n",
    "import warnings\n",
    "warnings.filterwarnings(action='ignore', category=UserWarning)"
   ]
  },
  {
   "cell_type": "code",
   "execution_count": 2,
   "id": "1d60876a-f684-455e-be6b-9a7f4fc9ce7f",
   "metadata": {},
   "outputs": [],
   "source": [
    "#importing standard libraries \n",
    "import numpy as np \n",
    "import pandas as pd \n",
    "from pandas import Series, DataFrame "
   ]
  },
  {
   "cell_type": "code",
   "execution_count": 3,
   "id": "f0cb6e6f-22b5-4b41-812a-5be2224df54d",
   "metadata": {},
   "outputs": [],
   "source": [
    "#import lightgbm and xgboost \n",
    "import lightgbm as lgb \n",
    "import xgboost as xgb \n",
    "\n",
    "#loading our training dataset 'adult.csv' with name 'data' using pandas \n",
    "data=pd.read_csv('~/Documents/deep-learning/quant_course/data/adult.csv') "
   ]
  },
  {
   "cell_type": "markdown",
   "id": "cefe000f-4786-488c-af7b-cd310dcc201f",
   "metadata": {},
   "source": [
    "# Adult dataset\n",
    "detailed data description https://cseweb.ucsd.edu//classes/sp15/cse190-c/reports/sp15/048.pdf"
   ]
  },
  {
   "cell_type": "code",
   "execution_count": 4,
   "id": "f672c0bf-42d7-4291-b6b2-3ed33a623272",
   "metadata": {},
   "outputs": [
    {
     "data": {
      "text/html": [
       "<div>\n",
       "<style scoped>\n",
       "    .dataframe tbody tr th:only-of-type {\n",
       "        vertical-align: middle;\n",
       "    }\n",
       "\n",
       "    .dataframe tbody tr th {\n",
       "        vertical-align: top;\n",
       "    }\n",
       "\n",
       "    .dataframe thead th {\n",
       "        text-align: right;\n",
       "    }\n",
       "</style>\n",
       "<table border=\"1\" class=\"dataframe\">\n",
       "  <thead>\n",
       "    <tr style=\"text-align: right;\">\n",
       "      <th></th>\n",
       "      <th>5695</th>\n",
       "      <th>13319</th>\n",
       "      <th>26154</th>\n",
       "      <th>620</th>\n",
       "      <th>1997</th>\n",
       "    </tr>\n",
       "  </thead>\n",
       "  <tbody>\n",
       "    <tr>\n",
       "      <th>age</th>\n",
       "      <td>4</td>\n",
       "      <td>1</td>\n",
       "      <td>4</td>\n",
       "      <td>0</td>\n",
       "      <td>4</td>\n",
       "    </tr>\n",
       "    <tr>\n",
       "      <th>workclass</th>\n",
       "      <td>Private</td>\n",
       "      <td>Private</td>\n",
       "      <td>Private</td>\n",
       "      <td>Private</td>\n",
       "      <td>Self-emp-not-inc</td>\n",
       "    </tr>\n",
       "    <tr>\n",
       "      <th>fnlwgt</th>\n",
       "      <td>339473</td>\n",
       "      <td>221215</td>\n",
       "      <td>148874</td>\n",
       "      <td>190483</td>\n",
       "      <td>30599</td>\n",
       "    </tr>\n",
       "    <tr>\n",
       "      <th>education</th>\n",
       "      <td>Some-college</td>\n",
       "      <td>10th</td>\n",
       "      <td>9th</td>\n",
       "      <td>Bachelors</td>\n",
       "      <td>Masters</td>\n",
       "    </tr>\n",
       "    <tr>\n",
       "      <th>education-num</th>\n",
       "      <td>10</td>\n",
       "      <td>6</td>\n",
       "      <td>5</td>\n",
       "      <td>13</td>\n",
       "      <td>14</td>\n",
       "    </tr>\n",
       "    <tr>\n",
       "      <th>marital-status</th>\n",
       "      <td>Divorced</td>\n",
       "      <td>Never-married</td>\n",
       "      <td>Married-civ-spouse</td>\n",
       "      <td>Never-married</td>\n",
       "      <td>Married-spouse-absent</td>\n",
       "    </tr>\n",
       "    <tr>\n",
       "      <th>occupation</th>\n",
       "      <td>Sales</td>\n",
       "      <td>Handlers-cleaners</td>\n",
       "      <td>Craft-repair</td>\n",
       "      <td>Sales</td>\n",
       "      <td>Prof-specialty</td>\n",
       "    </tr>\n",
       "    <tr>\n",
       "      <th>relationship</th>\n",
       "      <td>Not-in-family</td>\n",
       "      <td>Other-relative</td>\n",
       "      <td>Husband</td>\n",
       "      <td>Own-child</td>\n",
       "      <td>Not-in-family</td>\n",
       "    </tr>\n",
       "    <tr>\n",
       "      <th>race</th>\n",
       "      <td>White</td>\n",
       "      <td>White</td>\n",
       "      <td>Black</td>\n",
       "      <td>White</td>\n",
       "      <td>White</td>\n",
       "    </tr>\n",
       "    <tr>\n",
       "      <th>sex</th>\n",
       "      <td>Female</td>\n",
       "      <td>Male</td>\n",
       "      <td>Male</td>\n",
       "      <td>Female</td>\n",
       "      <td>Female</td>\n",
       "    </tr>\n",
       "    <tr>\n",
       "      <th>capitalgain</th>\n",
       "      <td>0</td>\n",
       "      <td>0</td>\n",
       "      <td>0</td>\n",
       "      <td>0</td>\n",
       "      <td>0</td>\n",
       "    </tr>\n",
       "    <tr>\n",
       "      <th>capitalloss</th>\n",
       "      <td>0</td>\n",
       "      <td>0</td>\n",
       "      <td>0</td>\n",
       "      <td>0</td>\n",
       "      <td>0</td>\n",
       "    </tr>\n",
       "    <tr>\n",
       "      <th>hoursperweek</th>\n",
       "      <td>3</td>\n",
       "      <td>2</td>\n",
       "      <td>2</td>\n",
       "      <td>0</td>\n",
       "      <td>3</td>\n",
       "    </tr>\n",
       "    <tr>\n",
       "      <th>native-country</th>\n",
       "      <td>United-States</td>\n",
       "      <td>Mexico</td>\n",
       "      <td>United-States</td>\n",
       "      <td>United-States</td>\n",
       "      <td>United-States</td>\n",
       "    </tr>\n",
       "    <tr>\n",
       "      <th>class</th>\n",
       "      <td>&lt;=50K</td>\n",
       "      <td>&lt;=50K</td>\n",
       "      <td>&lt;=50K</td>\n",
       "      <td>&lt;=50K</td>\n",
       "      <td>&lt;=50K</td>\n",
       "    </tr>\n",
       "  </tbody>\n",
       "</table>\n",
       "</div>"
      ],
      "text/plain": [
       "                        5695               13319               26154  \\\n",
       "age                         4                  1                   4   \n",
       "workclass             Private            Private             Private   \n",
       "fnlwgt                 339473             221215              148874   \n",
       "education        Some-college               10th                 9th   \n",
       "education-num              10                  6                   5   \n",
       "marital-status       Divorced      Never-married  Married-civ-spouse   \n",
       "occupation              Sales  Handlers-cleaners        Craft-repair   \n",
       "relationship    Not-in-family     Other-relative             Husband   \n",
       "race                    White              White               Black   \n",
       "sex                    Female               Male                Male   \n",
       "capitalgain                 0                  0                   0   \n",
       "capitalloss                 0                  0                   0   \n",
       "hoursperweek                3                  2                   2   \n",
       "native-country  United-States             Mexico       United-States   \n",
       "class                   <=50K              <=50K               <=50K   \n",
       "\n",
       "                        620                    1997   \n",
       "age                         0                      4  \n",
       "workclass             Private       Self-emp-not-inc  \n",
       "fnlwgt                 190483                  30599  \n",
       "education           Bachelors                Masters  \n",
       "education-num              13                     14  \n",
       "marital-status  Never-married  Married-spouse-absent  \n",
       "occupation              Sales         Prof-specialty  \n",
       "relationship        Own-child          Not-in-family  \n",
       "race                    White                  White  \n",
       "sex                    Female                 Female  \n",
       "capitalgain                 0                      0  \n",
       "capitalloss                 0                      0  \n",
       "hoursperweek                0                      3  \n",
       "native-country  United-States          United-States  \n",
       "class                   <=50K                  <=50K  "
      ]
     },
     "execution_count": 4,
     "metadata": {},
     "output_type": "execute_result"
    }
   ],
   "source": [
    "data.sample(5).T\n",
    "#fnlwgt: final weight. In other words, this is the number of people the census believes"
   ]
  },
  {
   "cell_type": "code",
   "execution_count": 5,
   "id": "42e19040-6bf0-49b3-90cd-a238a706db66",
   "metadata": {},
   "outputs": [],
   "source": [
    "#Assigning names to the columns \n",
    "data.columns=['age','workclass','fnlwgt','education','education-num','marital_Status','occupation','relationship','race','sex','capital_gain','capital_loss','hours_per_week','native_country','Income'] \n",
    "\n",
    "#glimpse of the dataset \n",
    "data.head() \n",
    "\n",
    "# Label Encoding our target variable \n",
    "from sklearn.preprocessing import LabelEncoder,OneHotEncoder\n",
    "l=LabelEncoder() \n",
    "l.fit(data.Income) \n",
    "\n",
    "l.classes_ \n",
    "data.Income=Series(l.transform(data.Income))  #label encoding our target variable \n",
    "data.Income.value_counts() \n",
    "\n",
    " \n",
    "\n",
    "#One Hot Encoding of the Categorical features \n",
    "one_hot_workclass=pd.get_dummies(data.workclass) \n",
    "one_hot_education=pd.get_dummies(data.education) \n",
    "one_hot_marital_Status=pd.get_dummies(data.marital_Status) \n",
    "one_hot_occupation=pd.get_dummies(data.occupation)\n",
    "one_hot_relationship=pd.get_dummies(data.relationship) \n",
    "one_hot_race=pd.get_dummies(data.race) \n",
    "one_hot_sex=pd.get_dummies(data.sex) \n",
    "one_hot_native_country=pd.get_dummies(data.native_country) \n",
    "\n",
    "#removing categorical features \n",
    "data.drop(['workclass','education','marital_Status','occupation','relationship','race','sex','native_country'],axis=1,inplace=True) \n",
    "\n",
    " \n",
    "\n",
    "#Merging one hot encoded features with our dataset 'data' \n",
    "data=pd.concat([data,one_hot_workclass,one_hot_education,one_hot_marital_Status,one_hot_occupation,one_hot_relationship,one_hot_race,one_hot_sex,one_hot_native_country],axis=1) \n",
    "\n",
    "#removing dulpicate columns \n",
    "_, i = np.unique(data.columns, return_index=True) \n",
    "data=data.iloc[:, i] \n",
    "\n",
    "#Here our target variable is 'Income' with values as 1 or 0.  \n",
    "#Separating our data into features dataset x and our target dataset y \n",
    "x=data.drop('Income',axis=1) \n",
    "y=data.Income \n",
    "\n",
    " \n",
    "\n",
    "#Imputing missing values in our target variable \n",
    "y.fillna(y.mode()[0],inplace=True) \n",
    "\n",
    "#Now splitting our dataset into test and train \n",
    "from sklearn.model_selection import train_test_split \n",
    "x_train,x_test,y_train,y_test=train_test_split(x,y,test_size=.3)"
   ]
  },
  {
   "cell_type": "code",
   "execution_count": 6,
   "id": "34aeb295-c0d8-4fd0-b9dc-d210c5ed7caa",
   "metadata": {},
   "outputs": [
    {
     "data": {
      "text/html": [
       "<div>\n",
       "<style scoped>\n",
       "    .dataframe tbody tr th:only-of-type {\n",
       "        vertical-align: middle;\n",
       "    }\n",
       "\n",
       "    .dataframe tbody tr th {\n",
       "        vertical-align: top;\n",
       "    }\n",
       "\n",
       "    .dataframe thead th {\n",
       "        text-align: right;\n",
       "    }\n",
       "</style>\n",
       "<table border=\"1\" class=\"dataframe\">\n",
       "  <thead>\n",
       "    <tr style=\"text-align: right;\">\n",
       "      <th></th>\n",
       "      <th>10th</th>\n",
       "      <th>11th</th>\n",
       "      <th>12th</th>\n",
       "      <th>1st-4th</th>\n",
       "      <th>5th-6th</th>\n",
       "      <th>7th-8th</th>\n",
       "      <th>9th</th>\n",
       "      <th>Adm-clerical</th>\n",
       "      <th>Amer-Indian-Eskimo</th>\n",
       "      <th>Armed-Forces</th>\n",
       "      <th>...</th>\n",
       "      <th>Widowed</th>\n",
       "      <th>Wife</th>\n",
       "      <th>Without-pay</th>\n",
       "      <th>Yugoslavia</th>\n",
       "      <th>age</th>\n",
       "      <th>capital_gain</th>\n",
       "      <th>capital_loss</th>\n",
       "      <th>education-num</th>\n",
       "      <th>fnlwgt</th>\n",
       "      <th>hours_per_week</th>\n",
       "    </tr>\n",
       "  </thead>\n",
       "  <tbody>\n",
       "    <tr>\n",
       "      <th>0</th>\n",
       "      <td>0</td>\n",
       "      <td>0</td>\n",
       "      <td>0</td>\n",
       "      <td>0</td>\n",
       "      <td>0</td>\n",
       "      <td>0</td>\n",
       "      <td>0</td>\n",
       "      <td>1</td>\n",
       "      <td>0</td>\n",
       "      <td>0</td>\n",
       "      <td>...</td>\n",
       "      <td>0</td>\n",
       "      <td>0</td>\n",
       "      <td>0</td>\n",
       "      <td>0</td>\n",
       "      <td>2</td>\n",
       "      <td>1</td>\n",
       "      <td>0</td>\n",
       "      <td>13</td>\n",
       "      <td>77516</td>\n",
       "      <td>2</td>\n",
       "    </tr>\n",
       "    <tr>\n",
       "      <th>1</th>\n",
       "      <td>0</td>\n",
       "      <td>0</td>\n",
       "      <td>0</td>\n",
       "      <td>0</td>\n",
       "      <td>0</td>\n",
       "      <td>0</td>\n",
       "      <td>0</td>\n",
       "      <td>0</td>\n",
       "      <td>0</td>\n",
       "      <td>0</td>\n",
       "      <td>...</td>\n",
       "      <td>0</td>\n",
       "      <td>0</td>\n",
       "      <td>0</td>\n",
       "      <td>0</td>\n",
       "      <td>3</td>\n",
       "      <td>0</td>\n",
       "      <td>0</td>\n",
       "      <td>13</td>\n",
       "      <td>83311</td>\n",
       "      <td>0</td>\n",
       "    </tr>\n",
       "    <tr>\n",
       "      <th>2</th>\n",
       "      <td>0</td>\n",
       "      <td>0</td>\n",
       "      <td>0</td>\n",
       "      <td>0</td>\n",
       "      <td>0</td>\n",
       "      <td>0</td>\n",
       "      <td>0</td>\n",
       "      <td>0</td>\n",
       "      <td>0</td>\n",
       "      <td>0</td>\n",
       "      <td>...</td>\n",
       "      <td>0</td>\n",
       "      <td>0</td>\n",
       "      <td>0</td>\n",
       "      <td>0</td>\n",
       "      <td>2</td>\n",
       "      <td>0</td>\n",
       "      <td>0</td>\n",
       "      <td>9</td>\n",
       "      <td>215646</td>\n",
       "      <td>2</td>\n",
       "    </tr>\n",
       "    <tr>\n",
       "      <th>3</th>\n",
       "      <td>0</td>\n",
       "      <td>1</td>\n",
       "      <td>0</td>\n",
       "      <td>0</td>\n",
       "      <td>0</td>\n",
       "      <td>0</td>\n",
       "      <td>0</td>\n",
       "      <td>0</td>\n",
       "      <td>0</td>\n",
       "      <td>0</td>\n",
       "      <td>...</td>\n",
       "      <td>0</td>\n",
       "      <td>0</td>\n",
       "      <td>0</td>\n",
       "      <td>0</td>\n",
       "      <td>3</td>\n",
       "      <td>0</td>\n",
       "      <td>0</td>\n",
       "      <td>7</td>\n",
       "      <td>234721</td>\n",
       "      <td>2</td>\n",
       "    </tr>\n",
       "    <tr>\n",
       "      <th>4</th>\n",
       "      <td>0</td>\n",
       "      <td>0</td>\n",
       "      <td>0</td>\n",
       "      <td>0</td>\n",
       "      <td>0</td>\n",
       "      <td>0</td>\n",
       "      <td>0</td>\n",
       "      <td>0</td>\n",
       "      <td>0</td>\n",
       "      <td>0</td>\n",
       "      <td>...</td>\n",
       "      <td>0</td>\n",
       "      <td>1</td>\n",
       "      <td>0</td>\n",
       "      <td>0</td>\n",
       "      <td>1</td>\n",
       "      <td>0</td>\n",
       "      <td>0</td>\n",
       "      <td>13</td>\n",
       "      <td>338409</td>\n",
       "      <td>2</td>\n",
       "    </tr>\n",
       "  </tbody>\n",
       "</table>\n",
       "<p>5 rows × 106 columns</p>\n",
       "</div>"
      ],
      "text/plain": [
       "   10th  11th  12th  1st-4th  5th-6th  7th-8th  9th  Adm-clerical  \\\n",
       "0     0     0     0        0        0        0    0             1   \n",
       "1     0     0     0        0        0        0    0             0   \n",
       "2     0     0     0        0        0        0    0             0   \n",
       "3     0     1     0        0        0        0    0             0   \n",
       "4     0     0     0        0        0        0    0             0   \n",
       "\n",
       "   Amer-Indian-Eskimo  Armed-Forces  ...  Widowed  Wife  Without-pay  \\\n",
       "0                   0             0  ...        0     0            0   \n",
       "1                   0             0  ...        0     0            0   \n",
       "2                   0             0  ...        0     0            0   \n",
       "3                   0             0  ...        0     0            0   \n",
       "4                   0             0  ...        0     1            0   \n",
       "\n",
       "   Yugoslavia  age  capital_gain  capital_loss  education-num  fnlwgt  \\\n",
       "0           0    2             1             0             13   77516   \n",
       "1           0    3             0             0             13   83311   \n",
       "2           0    2             0             0              9  215646   \n",
       "3           0    3             0             0              7  234721   \n",
       "4           0    1             0             0             13  338409   \n",
       "\n",
       "   hours_per_week  \n",
       "0               2  \n",
       "1               0  \n",
       "2               2  \n",
       "3               2  \n",
       "4               2  \n",
       "\n",
       "[5 rows x 106 columns]"
      ]
     },
     "execution_count": 6,
     "metadata": {},
     "output_type": "execute_result"
    }
   ],
   "source": [
    "data.head()"
   ]
  },
  {
   "cell_type": "markdown",
   "id": "1f9452d4-688c-46f6-8632-299442ac67c1",
   "metadata": {},
   "source": [
    "# Xgboost\n",
    "- method 1: sklearn API\n",
    "    - model.fit\n",
    "    - dataset input compatible with pandas or numpy\n",
    "    - can direclty use sklean cv, gridsearchcv etc."
   ]
  },
  {
   "cell_type": "code",
   "execution_count": 7,
   "id": "91eb9052-ed58-4209-acba-2960bdccaa8c",
   "metadata": {},
   "outputs": [
    {
     "data": {
      "text/plain": [
       "0.8589367365044701"
      ]
     },
     "execution_count": 7,
     "metadata": {},
     "output_type": "execute_result"
    }
   ],
   "source": [
    "# method 1: sklearn API\n",
    "model = xgb.XGBClassifier(eval_metric=\"logloss\", use_label_encoder=False, verbosity=0)\n",
    "model.fit(x_train, y_train)\n",
    "ypred = model.predict(x_test)\n",
    "#Converting probabilities into 1 or 0  \n",
    "for i in range(0,len(ypred)): \n",
    "    if ypred[i]>=.5:       # setting threshold to .5 \n",
    "        ypred[i]=1 \n",
    "    else: \n",
    "        ypred[i]=0   \n",
    "\n",
    "from sklearn.metrics import accuracy_score \n",
    "accuracy_xgb = accuracy_score(y_test,ypred) \n",
    "accuracy_xgb"
   ]
  },
  {
   "cell_type": "code",
   "execution_count": 8,
   "id": "c2726d34-3083-4fb7-94f7-e3e6d7ec4d7d",
   "metadata": {},
   "outputs": [
    {
     "data": {
      "image/png": "[encoded data removed]",
      "text/plain": [
       "<Figure size 432x288 with 1 Axes>"
      ]
     },
     "metadata": {
      "needs_background": "light"
     },
     "output_type": "display_data"
    }
   ],
   "source": [
    "import matplotlib.pyplot as plt\n",
    "xgb.plot_importance(model, max_num_features=10)\n",
    "plt.rcParams['figure.figsize'] = [5, 3]\n",
    "plt.show()"
   ]
  },
  {
   "cell_type": "markdown",
   "id": "b8bd463a-bd83-48e2-a440-d0801ad4352d",
   "metadata": {},
   "source": [
    "# LightGBM"
   ]
  },
  {
   "cell_type": "code",
   "execution_count": 9,
   "id": "e82ab59e-7aa3-4933-9822-f5be4253ef0e",
   "metadata": {},
   "outputs": [],
   "source": [
    "# method 1: sklearn API\n",
    "model = lgb.LGBMClassifier()\n",
    "model.fit(x_train, y_train)\n",
    "ypred = model.predict(x_test)\n",
    "#Converting probabilities into 1 or 0  \n",
    "for i in range(0,len(ypred)): \n",
    "    if ypred[i]>=.5:       # setting threshold to .5 \n",
    "        ypred[i]=1 \n",
    "    else: \n",
    "        ypred[i]=0   "
   ]
  },
  {
   "cell_type": "code",
   "execution_count": 10,
   "id": "4df2501e-f744-49b5-9274-5cb8a8f576bc",
   "metadata": {},
   "outputs": [
    {
     "data": {
      "text/plain": [
       "0.8614618166928274"
      ]
     },
     "execution_count": 10,
     "metadata": {},
     "output_type": "execute_result"
    }
   ],
   "source": [
    "from sklearn.metrics import accuracy_score \n",
    "accuracy_lgb = accuracy_score(y_test,ypred) \n",
    "accuracy_lgb"
   ]
  },
  {
   "cell_type": "code",
   "execution_count": 11,
   "id": "63f876dd-a972-4750-b218-74bfb3b4f3ea",
   "metadata": {},
   "outputs": [
    {
     "data": {
      "image/png": "[encoded data removed]",
      "text/plain": [
       "<Figure size 360x216 with 1 Axes>"
      ]
     },
     "metadata": {
      "needs_background": "light"
     },
     "output_type": "display_data"
    }
   ],
   "source": [
    "lgb.plot_importance(model, max_num_features=10)\n",
    "plt.rcParams['figure.figsize'] = [5, 3]\n",
    "plt.show()"
   ]
  },
  {
   "cell_type": "markdown",
   "id": "33e271a5-a085-474c-9cfe-30d6ca7e2613",
   "metadata": {},
   "source": [
    "# Sklearn Grid Search for Xgboost\n",
    "\n",
    "- list of parameters https://xgboost.readthedocs.io/en/latest/parameter.html"
   ]
  },
  {
   "cell_type": "code",
   "execution_count": 12,
   "id": "c1701c7a-6a4d-42e6-a002-e1d8eddbb049",
   "metadata": {},
   "outputs": [
    {
     "data": {
      "text/plain": [
       "GridSearchCV(cv=3,\n",
       "             estimator=XGBClassifier(base_score=None, booster=None,\n",
       "                                     colsample_bylevel=None,\n",
       "                                     colsample_bynode=None,\n",
       "                                     colsample_bytree=None, gamma=None,\n",
       "                                     gpu_id=None, importance_type='gain',\n",
       "                                     interaction_constraints=None,\n",
       "                                     learning_rate=None, max_delta_step=None,\n",
       "                                     max_depth=None, min_child_weight=None,\n",
       "                                     missing=nan, monotone_constraints=None,\n",
       "                                     n_estimators=100, n_jobs=None,\n",
       "                                     num_parallel_tree=None, random_state=None,\n",
       "                                     reg_alpha=None, reg_lambda=None,\n",
       "                                     scale_pos_weight=None, subsample=None,\n",
       "                                     tree_method=None, use_label_encoder=False,\n",
       "                                     validate_parameters=None, verbosity=0),\n",
       "             n_jobs=-1,\n",
       "             param_grid={'colsample_bytree': [0.3, 0.5], 'eta': [0.05, 0.2],\n",
       "                         'gamma': [0.0, 0.1], 'max_depth': [3, 5],\n",
       "                         'min_child_weight': [1, 3]})"
      ]
     },
     "execution_count": 12,
     "metadata": {},
     "output_type": "execute_result"
    }
   ],
   "source": [
    "from sklearn.model_selection import GridSearchCV\n",
    "\n",
    "\n",
    "model = xgb.XGBClassifier(use_label_encoder=False, verbosity=0)\n",
    "parameters = {\n",
    "     \"eta\"    : [0.05,  0.20] ,\n",
    "     \"max_depth\"        : [ 3, 5 ],\n",
    "     \"min_child_weight\" : [ 1, 3],\n",
    "     \"gamma\"            : [ 0.0, 0.1],\n",
    "     \"colsample_bytree\" : [ 0.3, 0.5]\n",
    "     }\n",
    "\n",
    "grid = GridSearchCV(model, parameters, n_jobs=-1, cv=3)\n",
    "\n",
    "grid.fit(x_train, y_train)"
   ]
  },
  {
   "cell_type": "code",
   "execution_count": 13,
   "id": "c6f4fd14-5efc-4bee-9187-3cfa3694b2b6",
   "metadata": {},
   "outputs": [
    {
     "name": "stdout",
     "output_type": "stream",
     "text": [
      "{'colsample_bytree': 0.5, 'eta': 0.2, 'gamma': 0.0, 'max_depth': 3, 'min_child_weight': 3}\n",
      "0.8577027807746417\n"
     ]
    }
   ],
   "source": [
    "print(grid.best_params_)\n",
    "print(grid.best_score_)"
   ]
  },
  {
   "cell_type": "markdown",
   "id": "9970a527-468f-42a5-ac5b-373716015afa",
   "metadata": {
    "jp-MarkdownHeadingCollapsed": true,
    "tags": []
   },
   "source": [
    "# Sklearn Grid Search for LightGBM\n",
    "\n",
    "- list of parameters https://lightgbm.readthedocs.io/en/latest/Parameters.html\n",
    "- guidance on parameter tuning https://lightgbm.readthedocs.io/en/latest/Parameters-Tuning.html"
   ]
  },
  {
   "cell_type": "code",
   "execution_count": 14,
   "id": "fcf0eb06-b8ea-4cab-804a-68787a2b697c",
   "metadata": {},
   "outputs": [],
   "source": [
    "%%capture\n",
    "from sklearn.model_selection import GridSearchCV\n",
    "\n",
    "model = lgb.LGBMClassifier()\n",
    "parameters = {\n",
    "    'num_leaves':[100,150], \n",
    "    'max_depth':[5,7],\n",
    "    'learning_rate':[.01,.05],\n",
    "    'max_bin':[100,200]  \n",
    "     }\n",
    "\n",
    "grid = GridSearchCV(model, parameters, n_jobs=-1,cv=3)\n",
    "\n",
    "grid.fit(x_train, y_train)"
   ]
  },
  {
   "cell_type": "code",
   "execution_count": 15,
   "id": "ccacecb2-753e-43f7-9a12-43ff171e771b",
   "metadata": {},
   "outputs": [
    {
     "name": "stdout",
     "output_type": "stream",
     "text": [
      "{'learning_rate': 0.05, 'max_bin': 200, 'max_depth': 7, 'num_leaves': 100}\n",
      "0.8551288269635203\n"
     ]
    }
   ],
   "source": [
    "print(grid.best_params_)\n",
    "print(grid.best_score_)"
   ]
  },
  {
   "cell_type": "markdown",
   "id": "8a825941-8122-4feb-a300-25de6c96b111",
   "metadata": {},
   "source": [
    "# Speed up using DMatrix for Xgboost"
   ]
  },
  {
   "cell_type": "code",
   "execution_count": 16,
   "id": "c4db5ee3-0298-48b0-9b2d-efbd75edfaac",
   "metadata": {},
   "outputs": [],
   "source": [
    "#The data is stored in a DMatrix object \n",
    "#label is used to define our outcome variable\n",
    "dtrain=xgb.DMatrix(x_train,label=y_train)\n",
    "dtest=xgb.DMatrix(x_test)"
   ]
  },
  {
   "cell_type": "code",
   "execution_count": 17,
   "id": "175424e1-2c74-49ff-ab0a-fbf397544b10",
   "metadata": {},
   "outputs": [],
   "source": [
    "#setting parameters for xgboost\n",
    "parameters={'max_depth':7, 'eta':1, 'silent':1,'objective':'binary:logistic','eval_metric':'auc','learning_rate':.05}"
   ]
  },
  {
   "cell_type": "code",
   "execution_count": 18,
   "id": "8a696d7e-66ab-4a29-9ccb-74c4d2b47a16",
   "metadata": {},
   "outputs": [],
   "source": [
    "#training our model \n",
    "num_round=50\n",
    "from datetime import datetime \n",
    "start = datetime.now() \n",
    "xg=xgb.train(parameters,dtrain,num_round) \n",
    "stop = datetime.now()"
   ]
  },
  {
   "cell_type": "code",
   "execution_count": 19,
   "id": "08c7a62e-e241-40bb-9bf6-2e51249b089c",
   "metadata": {},
   "outputs": [
    {
     "data": {
      "text/plain": [
       "datetime.timedelta(seconds=11, microseconds=659831)"
      ]
     },
     "execution_count": 19,
     "metadata": {},
     "output_type": "execute_result"
    }
   ],
   "source": [
    "#Execution time of the model \n",
    "execution_time_xgb = stop-start \n",
    "execution_time_xgb"
   ]
  },
  {
   "cell_type": "code",
   "execution_count": 20,
   "id": "25c1f50c-3306-4f87-b7e8-b293bbc0bf8b",
   "metadata": {},
   "outputs": [
    {
     "data": {
      "text/plain": [
       "array([0.24878033, 0.2643572 , 0.36049965, ..., 0.8869347 , 0.0509403 ,\n",
       "       0.23135269], dtype=float32)"
      ]
     },
     "execution_count": 20,
     "metadata": {},
     "output_type": "execute_result"
    }
   ],
   "source": [
    "#datetime.timedelta( , , ) representation => (days , seconds , microseconds) \n",
    "#now predicting our model on test set \n",
    "ypred=xg.predict(dtest) \n",
    "ypred"
   ]
  },
  {
   "cell_type": "code",
   "execution_count": 21,
   "id": "625da14d-9409-4651-993a-468aa272c436",
   "metadata": {},
   "outputs": [
    {
     "data": {
      "text/plain": [
       "dtype('int64')"
      ]
     },
     "execution_count": 21,
     "metadata": {},
     "output_type": "execute_result"
    }
   ],
   "source": [
    "y_test.dtype"
   ]
  },
  {
   "cell_type": "code",
   "execution_count": 22,
   "id": "6d9dbb79-8246-4f99-9f1e-30e94b22fba7",
   "metadata": {},
   "outputs": [],
   "source": [
    "#Converting probabilities into 1 or 0  \n",
    "for i in range(0,len(ypred)): \n",
    "    if ypred[i]>=.5:       # setting threshold to .5 \n",
    "        ypred[i]=1 \n",
    "    else: \n",
    "        ypred[i]=0   "
   ]
  },
  {
   "cell_type": "code",
   "execution_count": 23,
   "id": "a3cd0b46-43af-49a2-9757-b3372044d9da",
   "metadata": {},
   "outputs": [
    {
     "data": {
      "text/plain": [
       "14653"
      ]
     },
     "execution_count": 23,
     "metadata": {},
     "output_type": "execute_result"
    }
   ],
   "source": [
    "len(ypred)"
   ]
  },
  {
   "cell_type": "code",
   "execution_count": 24,
   "id": "3adfc5a7-8e50-4e5f-b8dd-55434e4ddaba",
   "metadata": {},
   "outputs": [
    {
     "data": {
      "text/plain": [
       "0.8553197297481744"
      ]
     },
     "execution_count": 24,
     "metadata": {},
     "output_type": "execute_result"
    }
   ],
   "source": [
    "#calculating accuracy of our model \n",
    "from sklearn.metrics import accuracy_score \n",
    "accuracy_xgb = accuracy_score(y_test,ypred) \n",
    "accuracy_xgb"
   ]
  },
  {
   "cell_type": "markdown",
   "id": "b99b4838-f1e3-49ab-9f75-2648d4c54411",
   "metadata": {},
   "source": [
    "# Speed up using lgb.Dataset for light GBM"
   ]
  },
  {
   "cell_type": "code",
   "execution_count": 25,
   "id": "ea5ded91-4142-4912-85f3-3f32e233ce40",
   "metadata": {},
   "outputs": [],
   "source": [
    "train_data=lgb.Dataset(x_train,label=y_train)"
   ]
  },
  {
   "cell_type": "code",
   "execution_count": 26,
   "id": "0884700e-258e-4c27-8045-812a5e135254",
   "metadata": {},
   "outputs": [],
   "source": [
    "#setting parameters for lightgbm\n",
    "param = {'num_leaves':150, 'objective':'binary','max_depth':7,'learning_rate':.05,'max_bin':200,'metric':'auc'}\n",
    "#param['metric'] = ['auc', 'binary_logloss']"
   ]
  },
  {
   "cell_type": "code",
   "execution_count": 27,
   "id": "67df0049-6bb9-4d65-a343-9805b809bc23",
   "metadata": {},
   "outputs": [],
   "source": [
    "%%capture\n",
    "#training our model using light gbm\n",
    "\n",
    "num_round=50\n",
    "start=datetime.now()\n",
    "lgbm=lgb.train(param,train_data,num_round)\n",
    "stop=datetime.now()"
   ]
  },
  {
   "cell_type": "code",
   "execution_count": 28,
   "id": "c3173f30-dcca-4fe4-a9ce-3f0122f2818e",
   "metadata": {},
   "outputs": [
    {
     "data": {
      "text/plain": [
       "datetime.timedelta(microseconds=418125)"
      ]
     },
     "execution_count": 28,
     "metadata": {},
     "output_type": "execute_result"
    }
   ],
   "source": [
    "#Execution time of the model\n",
    "execution_time_lgbm = stop-start\n",
    "execution_time_lgbm"
   ]
  },
  {
   "cell_type": "code",
   "execution_count": 29,
   "id": "762f6d60-109e-4bba-9327-62ec3b1349e9",
   "metadata": {},
   "outputs": [
    {
     "data": {
      "text/plain": [
       "array([0.22377957, 0.25224334, 0.34625344, 0.02021831, 0.60779602])"
      ]
     },
     "execution_count": 29,
     "metadata": {},
     "output_type": "execute_result"
    }
   ],
   "source": [
    "#predicting on test set\n",
    "ypred2=lgbm.predict(x_test)\n",
    "ypred2[0:5]  # showing first 5 predictions"
   ]
  },
  {
   "cell_type": "code",
   "execution_count": 30,
   "id": "c3812d10-f220-4e52-8ae3-16fe0de5bfe3",
   "metadata": {},
   "outputs": [],
   "source": [
    "\n",
    "#converting probabilities into 0 or 1\n",
    "for i in range(0,len(ypred)):\n",
    "    if ypred2[i]>=.5:       # setting threshold to .5\n",
    "       ypred2[i]=1\n",
    "    else:  \n",
    "       ypred2[i]=0"
   ]
  },
  {
   "cell_type": "code",
   "execution_count": 31,
   "id": "4080420a-f6f5-4c86-937b-f81d3657e2f4",
   "metadata": {},
   "outputs": [
    {
     "data": {
      "text/plain": [
       "0    11181\n",
       "1     3472\n",
       "Name: Income, dtype: int64"
      ]
     },
     "execution_count": 31,
     "metadata": {},
     "output_type": "execute_result"
    }
   ],
   "source": [
    "#calculating accuracy\n",
    "accuracy_lgbm = accuracy_score(ypred2,y_test)\n",
    "accuracy_lgbm\n",
    "y_test.value_counts()"
   ]
  },
  {
   "cell_type": "markdown",
   "id": "db515677-01b4-45e1-abfd-f1639451b4d6",
   "metadata": {},
   "source": [
    "# Adding ROC score for evaluation\n",
    "ROC explaination: https://towardsdatascience.com/understanding-auc-roc-curve-68b2303cc9c5"
   ]
  },
  {
   "cell_type": "code",
   "execution_count": 32,
   "id": "76f21460-a84d-4756-a2fe-7296f0bf2f23",
   "metadata": {},
   "outputs": [],
   "source": [
    "from sklearn.metrics import roc_auc_score\n",
    "# ROC score explaination: https://towardsdatascience.com/understanding-auc-roc-curve-68b2303cc9c5"
   ]
  },
  {
   "cell_type": "code",
   "execution_count": 33,
   "id": "caf43e03-7a73-4a22-b9d2-06846e9a1e3b",
   "metadata": {},
   "outputs": [
    {
     "data": {
      "text/plain": [
       "0.763905937471278"
      ]
     },
     "execution_count": 33,
     "metadata": {},
     "output_type": "execute_result"
    }
   ],
   "source": [
    "#calculating roc_auc_score for xgboost\n",
    "auc_xgb =  roc_auc_score(y_test,ypred)\n",
    "auc_xgb"
   ]
  },
  {
   "cell_type": "code",
   "execution_count": 34,
   "id": "9307bdb7-050e-47ef-885f-7870637c6230",
   "metadata": {},
   "outputs": [],
   "source": [
    "#calculating roc_auc_score for light gbm. \n",
    "auc_lgbm = roc_auc_score(y_test,ypred2)\n",
    "comparison_dict = {'accuracy score':(accuracy_lgbm,accuracy_xgb),\n",
    "                            'auc score':(auc_lgbm,auc_xgb),\n",
    "                            'execution time':(execution_time_lgbm,execution_time_xgb)}"
   ]
  },
  {
   "cell_type": "code",
   "execution_count": 35,
   "id": "e7e63752-087a-40a1-a9ac-9c930aaa4e46",
   "metadata": {},
   "outputs": [
    {
     "data": {
      "text/html": [
       "<div>\n",
       "<style scoped>\n",
       "    .dataframe tbody tr th:only-of-type {\n",
       "        vertical-align: middle;\n",
       "    }\n",
       "\n",
       "    .dataframe tbody tr th {\n",
       "        vertical-align: top;\n",
       "    }\n",
       "\n",
       "    .dataframe thead th {\n",
       "        text-align: right;\n",
       "    }\n",
       "</style>\n",
       "<table border=\"1\" class=\"dataframe\">\n",
       "  <thead>\n",
       "    <tr style=\"text-align: right;\">\n",
       "      <th></th>\n",
       "      <th>accuracy score</th>\n",
       "      <th>auc score</th>\n",
       "      <th>execution time</th>\n",
       "    </tr>\n",
       "  </thead>\n",
       "  <tbody>\n",
       "    <tr>\n",
       "      <th>LightGBM</th>\n",
       "      <td>0.855934</td>\n",
       "      <td>0.759344</td>\n",
       "      <td>0 days 00:00:00.418125</td>\n",
       "    </tr>\n",
       "    <tr>\n",
       "      <th>xgboost</th>\n",
       "      <td>0.855320</td>\n",
       "      <td>0.763906</td>\n",
       "      <td>0 days 00:00:11.659831</td>\n",
       "    </tr>\n",
       "  </tbody>\n",
       "</table>\n",
       "</div>"
      ],
      "text/plain": [
       "          accuracy score  auc score         execution time\n",
       "LightGBM        0.855934   0.759344 0 days 00:00:00.418125\n",
       "xgboost         0.855320   0.763906 0 days 00:00:11.659831"
      ]
     },
     "execution_count": 35,
     "metadata": {},
     "output_type": "execute_result"
    }
   ],
   "source": [
    "#Creating a dataframe ‘comparison_df’ for comparing the performance of Lightgbm and xgb. \n",
    "comparison_df = DataFrame(comparison_dict) \n",
    "comparison_df.index= ['LightGBM','xgboost'] \n",
    "comparison_df"
   ]
  },
  {
   "cell_type": "code",
   "execution_count": 36,
   "id": "87f8b59d-6e93-4b7a-87ed-0e8f3e06300c",
   "metadata": {},
   "outputs": [
    {
     "data": {
      "image/png": "[encoded data removed]",
      "text/plain": [
       "<Figure size 360x216 with 1 Axes>"
      ]
     },
     "metadata": {
      "needs_background": "light"
     },
     "output_type": "display_data"
    }
   ],
   "source": [
    "import matplotlib.pyplot as plt\n",
    "lgb.plot_importance(lgbm, max_num_features=10)\n",
    "plt.rcParams['figure.figsize'] = [5, 2]\n",
    "plt.show()"
   ]
  },
  {
   "cell_type": "code",
   "execution_count": 37,
   "id": "6d28d441-881e-4cbd-86ef-f3bd734cf46a",
   "metadata": {},
   "outputs": [
    {
     "data": {
      "image/png": "[encoded data removed]",
      "text/plain": [
       "<Figure size 360x144 with 1 Axes>"
      ]
     },
     "metadata": {
      "needs_background": "light"
     },
     "output_type": "display_data"
    }
   ],
   "source": [
    "\n",
    "xgb.plot_importance(xg, max_num_features=10)\n",
    "plt.rcParams['figure.figsize'] = [5, 3]\n",
    "plt.show()"
   ]
  },
  {
   "cell_type": "code",
   "execution_count": null,
   "id": "25ea4704-d6ac-418e-8f68-04b972a8c85b",
   "metadata": {},
   "outputs": [],
   "source": []
  }
 ],
 "metadata": {
  "kernelspec": {
   "display_name": "quant-course",
   "language": "python",
   "name": "quant-course"
  },
  "language_info": {
   "codemirror_mode": {
    "name": "ipython",
    "version": 3
   },
   "file_extension": ".py",
   "mimetype": "text/x-python",
   "name": "python",
   "nbconvert_exporter": "python",
   "pygments_lexer": "ipython3",
   "version": "3.9.6"
  }
 },
 "nbformat": 4,
 "nbformat_minor": 5
}
