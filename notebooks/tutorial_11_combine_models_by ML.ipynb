{
 "cells": [
  {
   "cell_type": "markdown",
   "id": "20374b7f-7e5a-4c63-a299-90aad3b94678",
   "metadata": {},
   "source": [
    "# Kaggle Competition - Quant & Machine Learning Course\n",
    "# Tutorial 11: Stacking Models by Any ML Model"
   ]
  },
  {
   "cell_type": "code",
   "execution_count": 1,
   "id": "02cf8b82-0007-4e7a-ba43-5e03c7ae6486",
   "metadata": {},
   "outputs": [],
   "source": [
    "# compare ensemble to each standalone models for regression\n",
    "from numpy import mean\n",
    "from numpy import std\n",
    "from sklearn.datasets import make_regression\n",
    "from sklearn.model_selection import cross_val_score\n",
    "from sklearn.model_selection import RepeatedKFold\n",
    "from sklearn.linear_model import LinearRegression\n",
    "from sklearn.neighbors import KNeighborsRegressor\n",
    "from sklearn.tree import DecisionTreeRegressor\n",
    "from sklearn.svm import SVR\n",
    "from sklearn.ensemble import StackingRegressor\n",
    "from matplotlib import pyplot\n",
    " \n",
    "# get the dataset\n",
    "# a simulated dataset\n",
    "def get_dataset():\n",
    "\tX, y = make_regression(n_samples=1000, n_features=20, n_informative=15, noise=0.1, random_state=1)\n",
    "\treturn X, y"
   ]
  },
  {
   "cell_type": "code",
   "execution_count": 2,
   "id": "c2211971-3b41-49e1-8617-4b5d7e1666fb",
   "metadata": {},
   "outputs": [
    {
     "name": "stdout",
     "output_type": "stream",
     "text": [
      "(1000, 20)\n",
      "[[ 0.59332206 -0.56637507  1.34808718 -0.57054047 -0.72480487  1.05648449\n",
      "   0.77744852  0.07361796  0.88398267  2.02843157  1.01902732  0.11227799\n",
      "   0.94218853  0.26741783  0.91458143 -0.72759572  1.08842814 -0.61450942\n",
      "  -0.69387293  1.69169009]\n",
      " [ 0.02335703  1.31289541 -0.10889847  1.29099337  0.88608992  1.04003845\n",
      "  -1.56111989  0.26486763  0.3093178   0.07983961 -0.8311734  -0.39712568\n",
      "   0.31897183  0.52795055 -0.56398646  0.93755484  2.91730876  0.57326545\n",
      "   1.15321262  1.0986885 ]]\n",
      "[419.49285417 524.80418832]\n"
     ]
    }
   ],
   "source": [
    "# define dataset\n",
    "X, y = get_dataset()\n",
    "print(X.shape)\n",
    "print(X[:2])\n",
    "print(y[:2])"
   ]
  },
  {
   "cell_type": "code",
   "execution_count": 3,
   "id": "abfba7d9-744b-4974-8427-fcab83e540ec",
   "metadata": {},
   "outputs": [],
   "source": [
    "from sklearn.model_selection import train_test_split\n",
    "X_train, X_test, y_train, y_test = train_test_split(X, y, random_state=10)"
   ]
  },
  {
   "cell_type": "code",
   "execution_count": 4,
   "id": "3d6802f5-be8c-4974-a731-bbc85fa7cefb",
   "metadata": {},
   "outputs": [],
   "source": [
    "#define level0 models\n",
    "model_0 = KNeighborsRegressor()\n",
    "model_1 = KNeighborsRegressor(n_neighbors=3)\n",
    "model_2 = KNeighborsRegressor(n_neighbors=10)\n",
    "\n",
    "model_3 = DecisionTreeRegressor(max_depth=3)\n",
    "model_4 = DecisionTreeRegressor(max_leaf_nodes=6)\n",
    "\n",
    "model_5 = SVR()"
   ]
  },
  {
   "cell_type": "code",
   "execution_count": 5,
   "id": "c1beeb0b-461a-447d-9ff9-dc327406d765",
   "metadata": {},
   "outputs": [
    {
     "data": {
      "text/plain": [
       "(750, 1)"
      ]
     },
     "execution_count": 5,
     "metadata": {},
     "output_type": "execute_result"
    }
   ],
   "source": [
    "models = [model_0,model_1,model_2,model_3,model_4,model_5]\n",
    "y_train.shape\n",
    "import numpy as np\n",
    "pred_trains = np.empty((y_train.shape[0],1), int)\n",
    "\n",
    "pred_trains.shape"
   ]
  },
  {
   "cell_type": "code",
   "execution_count": 6,
   "id": "6836bbc4-341b-4303-aeef-557a19d27d69",
   "metadata": {},
   "outputs": [
    {
     "name": "stdout",
     "output_type": "stream",
     "text": [
      "KNeighborsRegressor()\n",
      "0.7541001518036443\n",
      "(750, 2)\n",
      "KNeighborsRegressor(n_neighbors=3)\n",
      "0.7888165557943176\n",
      "(750, 3)\n",
      "KNeighborsRegressor(n_neighbors=10)\n",
      "0.7245749595763051\n",
      "(750, 4)\n",
      "DecisionTreeRegressor(max_depth=3)\n",
      "0.4174047211963756\n",
      "(750, 5)\n",
      "DecisionTreeRegressor(max_leaf_nodes=6)\n",
      "0.36346481254486085\n",
      "(750, 6)\n",
      "SVR()\n",
      "0.08222996437035845\n",
      "(750, 7)\n"
     ]
    }
   ],
   "source": [
    "import numpy as np\n",
    "pred_trains = np.empty((y_train.shape[0],1), int)\n",
    "\n",
    "for model in models:\n",
    "    print(model)\n",
    "    model.fit(X_train,y_train)\n",
    "    print(model.score(X_train,y_train))\n",
    "    pred_y= model.predict(X_train).reshape(y_train.shape[0],1)\n",
    "    pred_trains = np.append(pred_trains, pred_y, axis=1)\n",
    "    print(pred_trains.shape)\n",
    "pred_trains = pred_trains[:,2:]"
   ]
  },
  {
   "cell_type": "code",
   "execution_count": 7,
   "id": "1b0fe9a8-171a-4dbc-9b99-8068a117ba3f",
   "metadata": {},
   "outputs": [
    {
     "name": "stdout",
     "output_type": "stream",
     "text": [
      "[[-370.54930782 -279.05509698 -239.90923965 -239.90923965  -27.73486625]\n",
      " [ 163.85728815  168.67632202  263.71009994  177.69262823    6.72960366]]\n",
      "[-579.77215699   95.38288558]\n"
     ]
    }
   ],
   "source": [
    "print(pred_trains[1:3])\n",
    "print(y_train[1:3])"
   ]
  },
  {
   "cell_type": "code",
   "execution_count": 8,
   "id": "efd91ef7-a0cc-467b-a152-862d907f5c91",
   "metadata": {},
   "outputs": [
    {
     "name": "stdout",
     "output_type": "stream",
     "text": [
      "[ 0.21375907  0.33368577  0.08334029 -0.04455886 13.97025062]\n",
      "-39.662647995597126\n",
      "0.9321451420507632\n"
     ]
    }
   ],
   "source": [
    "#import xgboost\n",
    "combine_model = LinearRegression()\n",
    "#combine_model = xgboost.XGBRegressor()\n",
    "\n",
    "combine_model.fit(pred_trains, y_train)\n",
    "print(combine_model.coef_)\n",
    "print(combine_model.intercept_)\n",
    "print(combine_model.score(pred_trains,y_train))"
   ]
  },
  {
   "cell_type": "code",
   "execution_count": 10,
   "id": "8d3ba6ab-ab55-4c69-aa0c-fc47113d2bb3",
   "metadata": {},
   "outputs": [
    {
     "name": "stdout",
     "output_type": "stream",
     "text": [
      "KNeighborsRegressor()\n",
      "0.6394976677229471\n",
      "KNeighborsRegressor(n_neighbors=3)\n",
      "0.5517682017597703\n",
      "KNeighborsRegressor(n_neighbors=10)\n",
      "0.6463810789490669\n",
      "DecisionTreeRegressor(max_depth=3)\n",
      "0.22779343491398607\n",
      "DecisionTreeRegressor(max_leaf_nodes=6)\n",
      "0.16978396781584515\n",
      "SVR()\n",
      "0.07523233038622357\n",
      "LinearRegression()\n",
      "0.8946323451471271\n"
     ]
    }
   ],
   "source": [
    "pred_tests = np.empty((y_test.shape[0],1), int)\n",
    "\n",
    "for model in models:\n",
    "    print(model)\n",
    "    pred_y= model.predict(X_test).reshape(y_test.shape[0],1)\n",
    "    print(model.score(X_test,y_test))\n",
    "    pred_tests = np.append(pred_tests, pred_y, axis=1)\n",
    "pred_tests = pred_tests[:,2:]\n",
    "    \n",
    "combine_pred_test = combine_model.predict(pred_tests)\n",
    "print(combine_model)\n",
    "print(combine_model.score(pred_tests,y_test))"
   ]
  },
  {
   "cell_type": "code",
   "execution_count": null,
   "id": "59e7e4af-a11c-4e79-9b1a-62f9b1fa03af",
   "metadata": {},
   "outputs": [],
   "source": []
  }
 ],
 "metadata": {
  "kernelspec": {
   "display_name": "quant-course",
   "language": "python",
   "name": "quant-course"
  },
  "language_info": {
   "codemirror_mode": {
    "name": "ipython",
    "version": 3
   },
   "file_extension": ".py",
   "mimetype": "text/x-python",
   "name": "python",
   "nbconvert_exporter": "python",
   "pygments_lexer": "ipython3",
   "version": "3.9.6"
  }
 },
 "nbformat": 4,
 "nbformat_minor": 5
}
