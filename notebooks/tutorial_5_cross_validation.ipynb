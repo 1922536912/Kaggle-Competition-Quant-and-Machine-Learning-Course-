{
 "cells": [
  {
   "cell_type": "markdown",
   "metadata": {},
   "source": [
    "# Kaggle Competition - Quant & Machine Learning Course\n",
    "# Tutorial 5: Cross validation\n",
    "\n",
    "Modified based on resource https://github.com/amueller/ml-workshop-2-of-4/blob/master/notebooks/02%20-%20Cross-validation%20and%20Grid%20Search.ipynb"
   ]
  },
  {
   "cell_type": "code",
   "execution_count": 1,
   "metadata": {},
   "outputs": [],
   "source": [
    "import matplotlib.pyplot as plt\n",
    "import numpy as np\n",
    "import sklearn\n",
    "sklearn.set_config(print_changed_only=True)"
   ]
  },
  {
   "cell_type": "code",
   "execution_count": 2,
   "metadata": {},
   "outputs": [],
   "source": [
    "from sklearn.datasets import load_digits\n",
    "\n",
    "digits = load_digits()"
   ]
  },
  {
   "cell_type": "code",
   "execution_count": 3,
   "metadata": {},
   "outputs": [
    {
     "name": "stdout",
     "output_type": "stream",
     "text": [
      ".. _digits_dataset:\n",
      "\n",
      "Optical recognition of handwritten digits dataset\n",
      "--------------------------------------------------\n",
      "\n",
      "**Data Set Characteristics:**\n",
      "\n",
      "    :Number of Instances: 1797\n",
      "    :Number of Attributes: 64\n",
      "    :Attribute Information: 8x8 image of integer pixels in the range 0..16.\n",
      "    :Missing Attribute Values: None\n",
      "    :Creator: E. Alpaydin (alpaydin '@' boun.edu.tr)\n",
      "    :Date: July; 1998\n",
      "\n",
      "This is a copy of the test set of the UCI ML hand-written digits datasets\n",
      "https://archive.ics.uci.edu/ml/datasets/Optical+Recognition+of+Handwritten+Digits\n",
      "\n",
      "The data set contains images of hand-written digits: 10 classes where\n",
      "each class refers to a digit.\n",
      "\n",
      "Preprocessing programs made available by NIST were used to extract\n",
      "normalized bitmaps of handwritten digits from a preprinted form. From a\n",
      "total of 43 people, 30 contributed to the training set and different 13\n",
      "to the test set. 32x32 bitmaps are divided into nonoverlapping blocks of\n",
      "4x4 and the number of on pixels are counted in each block. This generates\n",
      "an input matrix of 8x8 where each element is an integer in the range\n",
      "0..16. This reduces dimensionality and gives invariance to small\n",
      "distortions.\n",
      "\n",
      "For info on NIST preprocessing routines, see M. D. Garris, J. L. Blue, G.\n",
      "T. Candela, D. L. Dimmick, J. Geist, P. J. Grother, S. A. Janet, and C.\n",
      "L. Wilson, NIST Form-Based Handprint Recognition System, NISTIR 5469,\n",
      "1994.\n",
      "\n",
      ".. topic:: References\n",
      "\n",
      "  - C. Kaynak (1995) Methods of Combining Multiple Classifiers and Their\n",
      "    Applications to Handwritten Digit Recognition, MSc Thesis, Institute of\n",
      "    Graduate Studies in Science and Engineering, Bogazici University.\n",
      "  - E. Alpaydin, C. Kaynak (1998) Cascading Classifiers, Kybernetika.\n",
      "  - Ken Tang and Ponnuthurai N. Suganthan and Xi Yao and A. Kai Qin.\n",
      "    Linear dimensionalityreduction using relevance weighted LDA. School of\n",
      "    Electrical and Electronic Engineering Nanyang Technological University.\n",
      "    2005.\n",
      "  - Claudio Gentile. A New Approximate Maximal Margin Classification\n",
      "    Algorithm. NIPS. 2000.\n",
      "\n"
     ]
    }
   ],
   "source": [
    "print(digits.DESCR)"
   ]
  },
  {
   "cell_type": "code",
   "execution_count": 4,
   "metadata": {},
   "outputs": [
    {
     "name": "stdout",
     "output_type": "stream",
     "text": [
      "(1797, 64)\n",
      "[[ 0.  0.  5. ...  0.  0.  0.]\n",
      " [ 0.  0.  0. ... 10.  0.  0.]\n",
      " [ 0.  0.  0. ... 16.  9.  0.]\n",
      " ...\n",
      " [ 0.  0.  1. ...  6.  0.  0.]\n",
      " [ 0.  0.  2. ... 12.  0.  0.]\n",
      " [ 0.  0. 10. ... 12.  1.  0.]]\n",
      "(1797,)\n",
      "[0 1 2 ... 8 9 8]\n"
     ]
    }
   ],
   "source": [
    "print(digits.data.shape)\n",
    "print(digits.data)\n",
    "print(digits.target.shape)\n",
    "print(digits.target)"
   ]
  },
  {
   "cell_type": "code",
   "execution_count": 5,
   "metadata": {},
   "outputs": [],
   "source": [
    "from sklearn.model_selection import train_test_split\n",
    "\n",
    "X_train, X_test, y_train, y_test = train_test_split(digits.data, digits.target)\n",
    "# test_size, train_size, if null defaul is 25% test"
   ]
  },
  {
   "cell_type": "code",
   "execution_count": 6,
   "metadata": {},
   "outputs": [
    {
     "name": "stdout",
     "output_type": "stream",
     "text": [
      "(1347, 64)\n",
      "(1347,)\n",
      "(450, 64)\n",
      "(450,)\n",
      "0.25041736227045075\n"
     ]
    }
   ],
   "source": [
    "print(X_train.shape)\n",
    "print(y_train.shape)\n",
    "print(X_test.shape)\n",
    "print(y_test.shape)\n",
    "print(450/(450+1347))"
   ]
  },
  {
   "cell_type": "markdown",
   "metadata": {},
   "source": [
    "# Example of CV using K nearest neighbor classifier\n",
    "- https://en.wikipedia.org/wiki/K-nearest_neighbors_algorithm\n",
    "- sklearn documentation: https://scikit-learn.org/stable/modules/generated/sklearn.neighbors.KNeighborsClassifier.html\n",
    "- default n_neighbors=5"
   ]
  },
  {
   "cell_type": "code",
   "execution_count": 7,
   "metadata": {},
   "outputs": [],
   "source": [
    "from sklearn.model_selection import cross_val_score\n",
    "from sklearn.neighbors import KNeighborsClassifier"
   ]
  },
  {
   "cell_type": "code",
   "execution_count": 8,
   "metadata": {},
   "outputs": [
    {
     "data": {
      "text/plain": [
       "0.9888888888888889"
      ]
     },
     "execution_count": 8,
     "metadata": {},
     "output_type": "execute_result"
    }
   ],
   "source": [
    "model = KNeighborsClassifier()\n",
    "model.fit(X_train, y_train)     # fit - train model\n",
    "model.predict(X_test)           # predict - predict on test \n",
    "model.score(X_test, y_test)     # get accuracy score for this model prediction"
   ]
  },
  {
   "cell_type": "code",
   "execution_count": 9,
   "metadata": {},
   "outputs": [
    {
     "name": "stdout",
     "output_type": "stream",
     "text": [
      "[0 3 6 4 5 5 4 7 8 4 1 2 9 9 5 1 1 5 1 4 5 6 4 8 1 9 7 5 9 7 5 8 6 1 5 7 8\n",
      " 8 9 4 4 5 6 4 8 6 6 1 3 6 3 4 8 0 7 7 7 4 5 3 8 3 5 3 7 9 1 2 9 6 0 1 3 6\n",
      " 6 7 8 9 4 3 2 9 4 3 2 0 0 4 7 1 3 6 5 7 3 5 5 7 8 0 3 8 6 7 5 5 1 5 7 3 5\n",
      " 9 8 0 8 2 0 5 3 7 3 1 8 0 9 4 7 0 2 3 4 1 4 6 3 0 8 1 9 8 3 8 8 1 4 4 9 2\n",
      " 2 2 9 5 4 6 0 9 6 2 1 6 0 5 9 1 7 2 8 2 4 8 5 5 0 7 4 5 9 3 3 2 4 2 8 5 8\n",
      " 7 3 9 8 3 0 9 5 0 9 1 2 4 8 1 1 6 4 8 8 2 7 9 4 3 6 9 0 1 6 5 7 7 4 7 6 7\n",
      " 1 8 2 7 8 4 9 4 8 7 9 6 6 6 7 9 1 5 5 5 2 2 6 5 3 5 7 0 3 8 4 3 6 8 4 1 8\n",
      " 6 3 3 4 9 4 4 5 4 0 2 1 2 3 8 3 5 7 0 2 9 7 5 3 8 9 7 1 4 2 8 0 9 0 3 0 1\n",
      " 7 1 8 4 9 0 0 7 5 0 8 8 8 2 6 2 1 1 8 9 1 6 6 1 1 6 7 1 0 1 2 6 2 9 7 5 4\n",
      " 6 4 1 4 7 0 4 5 2 2 4 7 0 3 5 1 5 4 7 9 7 9 0 7 6 5 7 8 5 6 4 5 5 8 4 4 1\n",
      " 8 0 3 3 5 8 2 3 4 0 4 9 5 9 1 0 9 4 3 5 0 5 3 2 9 1 3 2 5 8 2 6 9 7 5 0 0\n",
      " 3 6 2 6 3 8 9 3 4 9 9 1 0 6 6 9 0 6 4 7 8 6 8 5 1 3 0 0 2 8 0 2 2 0 5 2 4\n",
      " 2 6 5 7 2 8]\n"
     ]
    }
   ],
   "source": [
    "y_pred = model.predict(X_test)\n",
    "print(y_pred)"
   ]
  },
  {
   "cell_type": "code",
   "execution_count": 10,
   "metadata": {},
   "outputs": [
    {
     "name": "stdout",
     "output_type": "stream",
     "text": [
      "[0 3 6 4 5 5 4 7 8 4 1 2 9 9 5 1 1 5 1 4 5 6 4 8 1 9 7 5 9 7 5 8 6 1 5 7 8\n",
      " 8 9 4 4 5 6 4 8 6 6 1 3 6 3 4 9 0 7 7 7 4 5 3 8 3 5 3 7 9 1 2 9 6 0 1 3 6\n",
      " 6 7 8 9 4 3 2 9 4 3 2 0 0 4 7 1 3 6 5 7 3 5 5 2 8 0 3 8 6 7 5 5 1 5 7 3 5\n",
      " 9 8 0 8 2 0 5 3 7 3 1 8 0 9 4 7 0 2 3 4 1 4 6 3 0 8 1 9 8 3 8 8 1 4 4 9 2\n",
      " 2 2 9 5 4 6 0 9 6 2 1 6 0 5 9 1 7 2 8 2 4 8 5 5 0 7 4 5 9 3 3 2 4 2 8 5 8\n",
      " 7 3 9 8 3 0 9 5 0 9 1 2 4 8 1 1 6 4 8 4 2 7 9 4 3 6 9 0 1 6 5 7 7 4 7 6 7\n",
      " 1 8 2 7 8 9 9 4 8 7 9 6 6 6 7 9 1 5 5 5 2 2 6 5 3 5 7 0 3 8 4 3 6 8 4 1 8\n",
      " 6 3 3 4 9 4 4 5 4 0 2 1 2 3 8 3 5 7 0 2 9 7 5 3 8 9 7 1 4 2 8 0 9 0 3 0 1\n",
      " 7 1 8 4 9 0 0 7 5 0 8 8 8 2 6 2 1 1 8 9 1 6 6 1 1 6 7 1 0 1 2 6 2 9 7 5 4\n",
      " 6 4 1 4 7 0 4 5 2 2 4 7 0 3 5 1 5 4 7 3 7 9 0 7 6 5 7 8 5 6 4 5 5 8 4 4 1\n",
      " 8 0 3 3 5 8 2 3 4 0 4 9 5 9 1 0 9 4 3 5 0 5 3 2 9 1 3 2 5 8 2 6 9 7 5 0 0\n",
      " 3 6 2 6 3 8 9 3 4 9 9 1 0 6 6 9 0 6 4 7 8 6 8 5 1 3 0 0 2 8 0 2 2 0 5 2 4\n",
      " 2 6 5 7 2 8]\n"
     ]
    }
   ],
   "source": [
    "print(y_test)"
   ]
  },
  {
   "cell_type": "code",
   "execution_count": 11,
   "metadata": {},
   "outputs": [
    {
     "data": {
      "text/plain": [
       "array([0.98518519, 0.98888889, 0.9739777 , 0.97026022, 0.98513011])"
      ]
     },
     "execution_count": 11,
     "metadata": {},
     "output_type": "execute_result"
    }
   ],
   "source": [
    "cross_val_score(KNeighborsClassifier(), X_train, y_train, cv=5) #n_neighbors=5"
   ]
  },
  {
   "cell_type": "markdown",
   "metadata": {},
   "source": [
    "### Try other parameters n_neighbors = 3, or 10"
   ]
  },
  {
   "cell_type": "code",
   "execution_count": 12,
   "metadata": {},
   "outputs": [
    {
     "name": "stdout",
     "output_type": "stream",
     "text": [
      "0.98514663362247\n",
      "0.9806884207627702\n",
      "0.974002478314746\n"
     ]
    }
   ],
   "source": [
    "k3  = cross_val_score(KNeighborsClassifier(n_neighbors=3), X_train, y_train, cv=5) #n_neighbors=3\n",
    "k5  = cross_val_score(KNeighborsClassifier(n_neighbors=5), X_train, y_train, cv=5) #n_neighbors=5\n",
    "k10 = cross_val_score(KNeighborsClassifier(n_neighbors=10), X_train, y_train, cv=5) #n_neighbors=5\n",
    "\n",
    "print(k3.mean())\n",
    "print(k5.mean())\n",
    "print(k10.mean())"
   ]
  },
  {
   "cell_type": "markdown",
   "metadata": {},
   "source": [
    "# Some more advanced CV functions\n",
    "- for classifier, cv default to StratifiedKFold (automatically make different classes distributed evenly)\n",
    "- otherwise, cv default to KFold (with No shuffle)"
   ]
  },
  {
   "cell_type": "code",
   "execution_count": 13,
   "metadata": {},
   "outputs": [],
   "source": [
    "from sklearn.model_selection import KFold, StratifiedKFold, RepeatedStratifiedKFold"
   ]
  },
  {
   "cell_type": "code",
   "execution_count": 14,
   "metadata": {},
   "outputs": [
    {
     "data": {
      "text/plain": [
       "array([0.98518519, 0.98888889, 0.9739777 , 0.97026022, 0.98513011])"
      ]
     },
     "execution_count": 14,
     "metadata": {},
     "output_type": "execute_result"
    }
   ],
   "source": [
    "cross_val_score(KNeighborsClassifier(),\n",
    "                X_train, y_train, cv=StratifiedKFold(n_splits=5))"
   ]
  },
  {
   "cell_type": "code",
   "execution_count": 15,
   "metadata": {},
   "outputs": [
    {
     "data": {
      "text/plain": [
       "array([0.97777778, 0.9962963 , 0.96282528, 0.97769517, 0.98884758])"
      ]
     },
     "execution_count": 15,
     "metadata": {},
     "output_type": "execute_result"
    }
   ],
   "source": [
    "cross_val_score(KNeighborsClassifier(),\n",
    "                X_train, y_train, cv=KFold(n_splits=5))"
   ]
  },
  {
   "cell_type": "code",
   "execution_count": 16,
   "metadata": {},
   "outputs": [
    {
     "data": {
      "text/plain": [
       "50"
      ]
     },
     "execution_count": 16,
     "metadata": {},
     "output_type": "execute_result"
    }
   ],
   "source": [
    "len(cross_val_score(KNeighborsClassifier(), X_train, y_train, cv=RepeatedStratifiedKFold(n_splits=5, n_repeats=10, random_state=42)))"
   ]
  },
  {
   "cell_type": "markdown",
   "metadata": {},
   "source": [
    "Grid Search\n",
    "================="
   ]
  },
  {
   "cell_type": "markdown",
   "metadata": {},
   "source": [
    "Grid-Search using Support vector machine classifier as example"
   ]
  },
  {
   "cell_type": "code",
   "execution_count": 17,
   "metadata": {},
   "outputs": [],
   "source": [
    "from sklearn.model_selection import GridSearchCV\n",
    "from sklearn.svm import SVC"
   ]
  },
  {
   "cell_type": "markdown",
   "metadata": {},
   "source": [
    "Define parameter grid:"
   ]
  },
  {
   "cell_type": "code",
   "execution_count": 18,
   "metadata": {},
   "outputs": [
    {
     "name": "stdout",
     "output_type": "stream",
     "text": [
      "{'C': array([  0.001,   0.01 ,   0.1  ,   1.   ,  10.   , 100.   ]), 'gamma': array([0.00001, 0.0001 , 0.001  , 0.01   , 0.1    ])}\n"
     ]
    }
   ],
   "source": [
    "import numpy as np\n",
    "\n",
    "param_grid = {'C': 10. ** np.arange(-3, 3),\n",
    "              'gamma' : 10. ** np.arange(-5, 0)}\n",
    "\n",
    "np.set_printoptions(suppress=True)\n",
    "print(param_grid)"
   ]
  },
  {
   "cell_type": "code",
   "execution_count": 19,
   "metadata": {},
   "outputs": [],
   "source": [
    "grid_search = GridSearchCV(SVC(), param_grid, verbose=3)\n",
    "# CV default to be 5 Fold"
   ]
  },
  {
   "cell_type": "markdown",
   "metadata": {},
   "source": [
    "A GridSearchCV object behaves just like a normal classifier."
   ]
  },
  {
   "cell_type": "code",
   "execution_count": 20,
   "metadata": {},
   "outputs": [
    {
     "name": "stdout",
     "output_type": "stream",
     "text": [
      "Fitting 5 folds for each of 30 candidates, totalling 150 fits\n",
      "[CV 1/5] END ..............C=0.001, gamma=1e-05;, score=0.104 total time=   0.3s\n",
      "[CV 2/5] END ..............C=0.001, gamma=1e-05;, score=0.104 total time=   0.2s\n",
      "[CV 3/5] END ..............C=0.001, gamma=1e-05;, score=0.279 total time=   0.2s\n",
      "[CV 4/5] END ..............C=0.001, gamma=1e-05;, score=0.104 total time=   0.2s\n",
      "[CV 5/5] END ..............C=0.001, gamma=1e-05;, score=0.104 total time=   0.2s\n",
      "[CV 1/5] END .............C=0.001, gamma=0.0001;, score=0.104 total time=   0.2s\n",
      "[CV 2/5] END .............C=0.001, gamma=0.0001;, score=0.104 total time=   0.2s\n",
      "[CV 3/5] END .............C=0.001, gamma=0.0001;, score=0.286 total time=   0.2s\n",
      "[CV 4/5] END .............C=0.001, gamma=0.0001;, score=0.104 total time=   0.2s\n",
      "[CV 5/5] END .............C=0.001, gamma=0.0001;, score=0.104 total time=   0.2s\n",
      "[CV 1/5] END ..............C=0.001, gamma=0.001;, score=0.104 total time=   0.2s\n",
      "[CV 2/5] END ..............C=0.001, gamma=0.001;, score=0.104 total time=   0.2s\n",
      "[CV 3/5] END ..............C=0.001, gamma=0.001;, score=0.301 total time=   0.2s\n",
      "[CV 4/5] END ..............C=0.001, gamma=0.001;, score=0.104 total time=   0.2s\n",
      "[CV 5/5] END ..............C=0.001, gamma=0.001;, score=0.104 total time=   0.2s\n",
      "[CV 1/5] END ...............C=0.001, gamma=0.01;, score=0.104 total time=   0.2s\n",
      "[CV 2/5] END ...............C=0.001, gamma=0.01;, score=0.104 total time=   0.2s\n",
      "[CV 3/5] END ...............C=0.001, gamma=0.01;, score=0.145 total time=   0.2s\n",
      "[CV 4/5] END ...............C=0.001, gamma=0.01;, score=0.104 total time=   0.3s\n",
      "[CV 5/5] END ...............C=0.001, gamma=0.01;, score=0.104 total time=   0.2s\n",
      "[CV 1/5] END ................C=0.001, gamma=0.1;, score=0.104 total time=   0.2s\n",
      "[CV 2/5] END ................C=0.001, gamma=0.1;, score=0.104 total time=   0.3s\n",
      "[CV 3/5] END ................C=0.001, gamma=0.1;, score=0.108 total time=   0.2s\n",
      "[CV 4/5] END ................C=0.001, gamma=0.1;, score=0.104 total time=   0.2s\n",
      "[CV 5/5] END ................C=0.001, gamma=0.1;, score=0.104 total time=   0.2s\n",
      "[CV 1/5] END ...............C=0.01, gamma=1e-05;, score=0.104 total time=   0.3s\n",
      "[CV 2/5] END ...............C=0.01, gamma=1e-05;, score=0.104 total time=   0.2s\n",
      "[CV 3/5] END ...............C=0.01, gamma=1e-05;, score=0.279 total time=   0.2s\n",
      "[CV 4/5] END ...............C=0.01, gamma=1e-05;, score=0.104 total time=   0.2s\n",
      "[CV 5/5] END ...............C=0.01, gamma=1e-05;, score=0.104 total time=   0.2s\n",
      "[CV 1/5] END ..............C=0.01, gamma=0.0001;, score=0.104 total time=   0.2s\n",
      "[CV 2/5] END ..............C=0.01, gamma=0.0001;, score=0.104 total time=   0.2s\n",
      "[CV 3/5] END ..............C=0.01, gamma=0.0001;, score=0.286 total time=   0.2s\n",
      "[CV 4/5] END ..............C=0.01, gamma=0.0001;, score=0.104 total time=   0.2s\n",
      "[CV 5/5] END ..............C=0.01, gamma=0.0001;, score=0.104 total time=   0.2s\n",
      "[CV 1/5] END ...............C=0.01, gamma=0.001;, score=0.104 total time=   0.2s\n",
      "[CV 2/5] END ...............C=0.01, gamma=0.001;, score=0.104 total time=   0.2s\n",
      "[CV 3/5] END ...............C=0.01, gamma=0.001;, score=0.301 total time=   0.2s\n",
      "[CV 4/5] END ...............C=0.01, gamma=0.001;, score=0.104 total time=   0.2s\n",
      "[CV 5/5] END ...............C=0.01, gamma=0.001;, score=0.104 total time=   0.2s\n",
      "[CV 1/5] END ................C=0.01, gamma=0.01;, score=0.104 total time=   0.2s\n",
      "[CV 2/5] END ................C=0.01, gamma=0.01;, score=0.104 total time=   0.3s\n",
      "[CV 3/5] END ................C=0.01, gamma=0.01;, score=0.145 total time=   0.3s\n",
      "[CV 4/5] END ................C=0.01, gamma=0.01;, score=0.104 total time=   0.3s\n",
      "[CV 5/5] END ................C=0.01, gamma=0.01;, score=0.104 total time=   0.3s\n",
      "[CV 1/5] END .................C=0.01, gamma=0.1;, score=0.104 total time=   0.2s\n",
      "[CV 2/5] END .................C=0.01, gamma=0.1;, score=0.104 total time=   0.2s\n",
      "[CV 3/5] END .................C=0.01, gamma=0.1;, score=0.108 total time=   0.2s\n",
      "[CV 4/5] END .................C=0.01, gamma=0.1;, score=0.104 total time=   0.2s\n",
      "[CV 5/5] END .................C=0.01, gamma=0.1;, score=0.104 total time=   0.2s\n",
      "[CV 1/5] END ................C=0.1, gamma=1e-05;, score=0.104 total time=   0.2s\n",
      "[CV 2/5] END ................C=0.1, gamma=1e-05;, score=0.104 total time=   0.2s\n",
      "[CV 3/5] END ................C=0.1, gamma=1e-05;, score=0.279 total time=   0.2s\n",
      "[CV 4/5] END ................C=0.1, gamma=1e-05;, score=0.104 total time=   0.2s\n",
      "[CV 5/5] END ................C=0.1, gamma=1e-05;, score=0.104 total time=   0.2s\n",
      "[CV 1/5] END ...............C=0.1, gamma=0.0001;, score=0.822 total time=   0.2s\n",
      "[CV 2/5] END ...............C=0.1, gamma=0.0001;, score=0.863 total time=   0.2s\n",
      "[CV 3/5] END ...............C=0.1, gamma=0.0001;, score=0.829 total time=   0.2s\n",
      "[CV 4/5] END ...............C=0.1, gamma=0.0001;, score=0.818 total time=   0.2s\n",
      "[CV 5/5] END ...............C=0.1, gamma=0.0001;, score=0.844 total time=   0.2s\n",
      "[CV 1/5] END ................C=0.1, gamma=0.001;, score=0.967 total time=   0.2s\n",
      "[CV 2/5] END ................C=0.1, gamma=0.001;, score=0.959 total time=   0.1s\n",
      "[CV 3/5] END ................C=0.1, gamma=0.001;, score=0.941 total time=   0.2s\n",
      "[CV 4/5] END ................C=0.1, gamma=0.001;, score=0.963 total time=   0.1s\n",
      "[CV 5/5] END ................C=0.1, gamma=0.001;, score=0.952 total time=   0.1s\n",
      "[CV 1/5] END .................C=0.1, gamma=0.01;, score=0.104 total time=   0.2s\n",
      "[CV 2/5] END .................C=0.1, gamma=0.01;, score=0.104 total time=   0.2s\n",
      "[CV 3/5] END .................C=0.1, gamma=0.01;, score=0.145 total time=   0.2s\n",
      "[CV 4/5] END .................C=0.1, gamma=0.01;, score=0.104 total time=   0.2s\n",
      "[CV 5/5] END .................C=0.1, gamma=0.01;, score=0.104 total time=   0.4s\n",
      "[CV 1/5] END ..................C=0.1, gamma=0.1;, score=0.104 total time=   0.4s\n",
      "[CV 2/5] END ..................C=0.1, gamma=0.1;, score=0.104 total time=   0.3s\n",
      "[CV 3/5] END ..................C=0.1, gamma=0.1;, score=0.108 total time=   0.2s\n",
      "[CV 4/5] END ..................C=0.1, gamma=0.1;, score=0.104 total time=   0.2s\n",
      "[CV 5/5] END ..................C=0.1, gamma=0.1;, score=0.104 total time=   0.2s\n",
      "[CV 1/5] END ................C=1.0, gamma=1e-05;, score=0.859 total time=   0.3s\n",
      "[CV 2/5] END ................C=1.0, gamma=1e-05;, score=0.889 total time=   0.3s\n",
      "[CV 3/5] END ................C=1.0, gamma=1e-05;, score=0.874 total time=   0.2s\n",
      "[CV 4/5] END ................C=1.0, gamma=1e-05;, score=0.855 total time=   0.2s\n",
      "[CV 5/5] END ................C=1.0, gamma=1e-05;, score=0.870 total time=   0.2s\n",
      "[CV 1/5] END ...............C=1.0, gamma=0.0001;, score=0.974 total time=   0.1s\n",
      "[CV 2/5] END ...............C=1.0, gamma=0.0001;, score=0.974 total time=   0.1s\n",
      "[CV 3/5] END ...............C=1.0, gamma=0.0001;, score=0.955 total time=   0.1s\n",
      "[CV 4/5] END ...............C=1.0, gamma=0.0001;, score=0.963 total time=   0.1s\n",
      "[CV 5/5] END ...............C=1.0, gamma=0.0001;, score=0.955 total time=   0.1s\n",
      "[CV 1/5] END ................C=1.0, gamma=0.001;, score=0.989 total time=   0.1s\n",
      "[CV 2/5] END ................C=1.0, gamma=0.001;, score=0.993 total time=   0.1s\n",
      "[CV 3/5] END ................C=1.0, gamma=0.001;, score=0.981 total time=   0.1s\n",
      "[CV 4/5] END ................C=1.0, gamma=0.001;, score=0.985 total time=   0.1s\n",
      "[CV 5/5] END ................C=1.0, gamma=0.001;, score=0.989 total time=   0.1s\n",
      "[CV 1/5] END .................C=1.0, gamma=0.01;, score=0.819 total time=   0.2s\n",
      "[CV 2/5] END .................C=1.0, gamma=0.01;, score=0.837 total time=   0.2s\n",
      "[CV 3/5] END .................C=1.0, gamma=0.01;, score=0.844 total time=   0.2s\n",
      "[CV 4/5] END .................C=1.0, gamma=0.01;, score=0.777 total time=   0.2s\n",
      "[CV 5/5] END .................C=1.0, gamma=0.01;, score=0.784 total time=   0.2s\n",
      "[CV 1/5] END ..................C=1.0, gamma=0.1;, score=0.104 total time=   0.2s\n",
      "[CV 2/5] END ..................C=1.0, gamma=0.1;, score=0.104 total time=   0.2s\n",
      "[CV 3/5] END ..................C=1.0, gamma=0.1;, score=0.130 total time=   0.5s\n",
      "[CV 4/5] END ..................C=1.0, gamma=0.1;, score=0.104 total time=   0.3s\n",
      "[CV 5/5] END ..................C=1.0, gamma=0.1;, score=0.104 total time=   0.2s\n",
      "[CV 1/5] END ...............C=10.0, gamma=1e-05;, score=0.959 total time=   0.1s\n",
      "[CV 2/5] END ...............C=10.0, gamma=1e-05;, score=0.970 total time=   0.1s\n",
      "[CV 3/5] END ...............C=10.0, gamma=1e-05;, score=0.955 total time=   0.1s\n",
      "[CV 4/5] END ...............C=10.0, gamma=1e-05;, score=0.948 total time=   0.1s\n",
      "[CV 5/5] END ...............C=10.0, gamma=1e-05;, score=0.959 total time=   0.1s\n",
      "[CV 1/5] END ..............C=10.0, gamma=0.0001;, score=0.981 total time=   0.1s\n",
      "[CV 2/5] END ..............C=10.0, gamma=0.0001;, score=0.993 total time=   0.0s\n",
      "[CV 3/5] END ..............C=10.0, gamma=0.0001;, score=0.981 total time=   0.1s\n",
      "[CV 4/5] END ..............C=10.0, gamma=0.0001;, score=0.970 total time=   0.1s\n",
      "[CV 5/5] END ..............C=10.0, gamma=0.0001;, score=0.974 total time=   0.1s\n",
      "[CV 1/5] END ...............C=10.0, gamma=0.001;, score=0.989 total time=   0.1s\n",
      "[CV 2/5] END ...............C=10.0, gamma=0.001;, score=0.993 total time=   0.1s\n",
      "[CV 3/5] END ...............C=10.0, gamma=0.001;, score=0.981 total time=   0.1s\n",
      "[CV 4/5] END ...............C=10.0, gamma=0.001;, score=0.985 total time=   0.1s\n",
      "[CV 5/5] END ...............C=10.0, gamma=0.001;, score=0.993 total time=   0.1s\n",
      "[CV 1/5] END ................C=10.0, gamma=0.01;, score=0.822 total time=   0.2s\n",
      "[CV 2/5] END ................C=10.0, gamma=0.01;, score=0.844 total time=   0.2s\n",
      "[CV 3/5] END ................C=10.0, gamma=0.01;, score=0.848 total time=   0.2s\n",
      "[CV 4/5] END ................C=10.0, gamma=0.01;, score=0.788 total time=   0.2s\n",
      "[CV 5/5] END ................C=10.0, gamma=0.01;, score=0.792 total time=   0.2s\n",
      "[CV 1/5] END .................C=10.0, gamma=0.1;, score=0.104 total time=   0.2s\n",
      "[CV 2/5] END .................C=10.0, gamma=0.1;, score=0.104 total time=   0.2s\n",
      "[CV 3/5] END .................C=10.0, gamma=0.1;, score=0.134 total time=   0.2s\n",
      "[CV 4/5] END .................C=10.0, gamma=0.1;, score=0.104 total time=   0.2s\n",
      "[CV 5/5] END .................C=10.0, gamma=0.1;, score=0.104 total time=   0.2s\n",
      "[CV 1/5] END ..............C=100.0, gamma=1e-05;, score=0.978 total time=   0.0s\n",
      "[CV 2/5] END ..............C=100.0, gamma=1e-05;, score=0.985 total time=   0.0s\n",
      "[CV 3/5] END ..............C=100.0, gamma=1e-05;, score=0.978 total time=   0.0s\n",
      "[CV 4/5] END ..............C=100.0, gamma=1e-05;, score=0.970 total time=   0.0s\n",
      "[CV 5/5] END ..............C=100.0, gamma=1e-05;, score=0.974 total time=   0.0s\n",
      "[CV 1/5] END .............C=100.0, gamma=0.0001;, score=0.985 total time=   0.0s\n",
      "[CV 2/5] END .............C=100.0, gamma=0.0001;, score=0.993 total time=   0.0s\n",
      "[CV 3/5] END .............C=100.0, gamma=0.0001;, score=0.978 total time=   0.1s\n",
      "[CV 4/5] END .............C=100.0, gamma=0.0001;, score=0.974 total time=   0.0s\n",
      "[CV 5/5] END .............C=100.0, gamma=0.0001;, score=0.978 total time=   0.0s\n",
      "[CV 1/5] END ..............C=100.0, gamma=0.001;, score=0.989 total time=   0.1s\n",
      "[CV 2/5] END ..............C=100.0, gamma=0.001;, score=0.993 total time=   0.1s\n",
      "[CV 3/5] END ..............C=100.0, gamma=0.001;, score=0.981 total time=   0.1s\n",
      "[CV 4/5] END ..............C=100.0, gamma=0.001;, score=0.985 total time=   0.1s\n",
      "[CV 5/5] END ..............C=100.0, gamma=0.001;, score=0.993 total time=   0.1s\n",
      "[CV 1/5] END ...............C=100.0, gamma=0.01;, score=0.822 total time=   0.2s\n",
      "[CV 2/5] END ...............C=100.0, gamma=0.01;, score=0.844 total time=   0.2s\n",
      "[CV 3/5] END ...............C=100.0, gamma=0.01;, score=0.848 total time=   0.2s\n",
      "[CV 4/5] END ...............C=100.0, gamma=0.01;, score=0.788 total time=   0.2s\n",
      "[CV 5/5] END ...............C=100.0, gamma=0.01;, score=0.792 total time=   0.2s\n",
      "[CV 1/5] END ................C=100.0, gamma=0.1;, score=0.104 total time=   0.2s\n",
      "[CV 2/5] END ................C=100.0, gamma=0.1;, score=0.104 total time=   0.2s\n",
      "[CV 3/5] END ................C=100.0, gamma=0.1;, score=0.134 total time=   0.2s\n",
      "[CV 4/5] END ................C=100.0, gamma=0.1;, score=0.104 total time=   0.2s\n",
      "[CV 5/5] END ................C=100.0, gamma=0.1;, score=0.104 total time=   0.2s\n"
     ]
    },
    {
     "data": {
      "text/plain": [
       "GridSearchCV(estimator=SVC(),\n",
       "             param_grid={'C': array([  0.001,   0.01 ,   0.1  ,   1.   ,  10.   , 100.   ]),\n",
       "                         'gamma': array([0.00001, 0.0001 , 0.001  , 0.01   , 0.1    ])},\n",
       "             verbose=3)"
      ]
     },
     "execution_count": 20,
     "metadata": {},
     "output_type": "execute_result"
    }
   ],
   "source": [
    "grid_search.fit(X_train, y_train)"
   ]
  },
  {
   "cell_type": "code",
   "execution_count": 21,
   "metadata": {},
   "outputs": [
    {
     "data": {
      "text/plain": [
       "array([0, 3, 6, 4, 5, 5, 4, 7, 8, 4, 1, 2, 9, 9, 5, 1, 1, 5, 1, 4, 5, 6,\n",
       "       4, 8, 1, 9, 7, 5, 9, 7, 5, 8, 6, 1, 5, 7, 8, 8, 5, 4, 4, 5, 6, 4,\n",
       "       8, 6, 6, 1, 3, 6, 3, 4, 9, 0, 7, 7, 7, 4, 5, 3, 8, 3, 5, 3, 7, 9,\n",
       "       1, 2, 9, 6, 0, 1, 3, 6, 6, 7, 8, 9, 4, 3, 2, 9, 4, 3, 2, 0, 0, 4,\n",
       "       7, 1, 3, 6, 5, 7, 3, 5, 5, 2, 8, 0, 3, 8, 6, 7, 5, 5, 1, 5, 7, 3,\n",
       "       5, 9, 8, 0, 8, 2, 0, 5, 3, 7, 3, 1, 8, 0, 9, 4, 7, 0, 2, 3, 4, 1,\n",
       "       4, 6, 3, 0, 8, 1, 9, 8, 3, 8, 8, 1, 4, 4, 9, 2, 2, 2, 9, 5, 4, 6,\n",
       "       0, 9, 6, 2, 1, 6, 0, 5, 9, 1, 7, 2, 8, 2, 4, 8, 5, 5, 0, 7, 4, 5,\n",
       "       9, 3, 3, 2, 4, 2, 8, 5, 8, 7, 3, 9, 8, 3, 0, 9, 5, 0, 9, 1, 2, 4,\n",
       "       8, 1, 1, 6, 4, 8, 4, 2, 7, 9, 4, 3, 6, 9, 0, 1, 6, 5, 7, 7, 4, 7,\n",
       "       6, 7, 1, 8, 2, 7, 8, 7, 9, 4, 8, 7, 9, 6, 6, 6, 7, 9, 1, 5, 5, 5,\n",
       "       2, 2, 6, 5, 3, 5, 7, 0, 3, 8, 4, 3, 6, 8, 4, 1, 8, 6, 3, 3, 4, 9,\n",
       "       4, 4, 5, 4, 0, 2, 1, 2, 3, 8, 3, 5, 7, 0, 2, 9, 7, 5, 3, 8, 9, 7,\n",
       "       1, 4, 2, 8, 0, 9, 0, 3, 0, 1, 7, 1, 8, 4, 9, 0, 0, 7, 5, 0, 8, 8,\n",
       "       8, 2, 6, 2, 1, 1, 8, 9, 1, 6, 6, 1, 1, 6, 7, 1, 0, 1, 2, 6, 2, 9,\n",
       "       7, 5, 4, 6, 4, 1, 4, 7, 0, 4, 5, 2, 2, 4, 7, 0, 3, 5, 1, 5, 4, 7,\n",
       "       9, 7, 9, 0, 7, 6, 5, 7, 8, 5, 6, 4, 5, 5, 8, 4, 4, 1, 8, 0, 3, 3,\n",
       "       5, 8, 2, 3, 4, 0, 4, 9, 5, 9, 1, 0, 9, 4, 3, 5, 0, 5, 3, 2, 9, 1,\n",
       "       3, 2, 5, 8, 2, 6, 9, 7, 5, 0, 0, 3, 6, 2, 6, 3, 8, 9, 3, 4, 9, 9,\n",
       "       1, 0, 6, 6, 9, 0, 6, 4, 7, 8, 6, 8, 5, 1, 3, 0, 0, 2, 8, 0, 2, 2,\n",
       "       0, 5, 2, 4, 2, 6, 5, 7, 2, 8])"
      ]
     },
     "execution_count": 21,
     "metadata": {},
     "output_type": "execute_result"
    }
   ],
   "source": [
    "grid_search.predict(X_test)"
   ]
  },
  {
   "cell_type": "code",
   "execution_count": 22,
   "metadata": {},
   "outputs": [
    {
     "data": {
      "text/plain": [
       "array([0, 3, 6, 4, 5, 5, 4, 7, 8, 4, 1, 2, 9, 9, 5, 1, 1, 5, 1, 4, 5, 6,\n",
       "       4, 8, 1, 9, 7, 5, 9, 7, 5, 8, 6, 1, 5, 7, 8, 8, 9, 4, 4, 5, 6, 4,\n",
       "       8, 6, 6, 1, 3, 6, 3, 4, 9, 0, 7, 7, 7, 4, 5, 3, 8, 3, 5, 3, 7, 9,\n",
       "       1, 2, 9, 6, 0, 1, 3, 6, 6, 7, 8, 9, 4, 3, 2, 9, 4, 3, 2, 0, 0, 4,\n",
       "       7, 1, 3, 6, 5, 7, 3, 5, 5, 2, 8, 0, 3, 8, 6, 7, 5, 5, 1, 5, 7, 3,\n",
       "       5, 9, 8, 0, 8, 2, 0, 5, 3, 7, 3, 1, 8, 0, 9, 4, 7, 0, 2, 3, 4, 1,\n",
       "       4, 6, 3, 0, 8, 1, 9, 8, 3, 8, 8, 1, 4, 4, 9, 2, 2, 2, 9, 5, 4, 6,\n",
       "       0, 9, 6, 2, 1, 6, 0, 5, 9, 1, 7, 2, 8, 2, 4, 8, 5, 5, 0, 7, 4, 5,\n",
       "       9, 3, 3, 2, 4, 2, 8, 5, 8, 7, 3, 9, 8, 3, 0, 9, 5, 0, 9, 1, 2, 4,\n",
       "       8, 1, 1, 6, 4, 8, 4, 2, 7, 9, 4, 3, 6, 9, 0, 1, 6, 5, 7, 7, 4, 7,\n",
       "       6, 7, 1, 8, 2, 7, 8, 9, 9, 4, 8, 7, 9, 6, 6, 6, 7, 9, 1, 5, 5, 5,\n",
       "       2, 2, 6, 5, 3, 5, 7, 0, 3, 8, 4, 3, 6, 8, 4, 1, 8, 6, 3, 3, 4, 9,\n",
       "       4, 4, 5, 4, 0, 2, 1, 2, 3, 8, 3, 5, 7, 0, 2, 9, 7, 5, 3, 8, 9, 7,\n",
       "       1, 4, 2, 8, 0, 9, 0, 3, 0, 1, 7, 1, 8, 4, 9, 0, 0, 7, 5, 0, 8, 8,\n",
       "       8, 2, 6, 2, 1, 1, 8, 9, 1, 6, 6, 1, 1, 6, 7, 1, 0, 1, 2, 6, 2, 9,\n",
       "       7, 5, 4, 6, 4, 1, 4, 7, 0, 4, 5, 2, 2, 4, 7, 0, 3, 5, 1, 5, 4, 7,\n",
       "       3, 7, 9, 0, 7, 6, 5, 7, 8, 5, 6, 4, 5, 5, 8, 4, 4, 1, 8, 0, 3, 3,\n",
       "       5, 8, 2, 3, 4, 0, 4, 9, 5, 9, 1, 0, 9, 4, 3, 5, 0, 5, 3, 2, 9, 1,\n",
       "       3, 2, 5, 8, 2, 6, 9, 7, 5, 0, 0, 3, 6, 2, 6, 3, 8, 9, 3, 4, 9, 9,\n",
       "       1, 0, 6, 6, 9, 0, 6, 4, 7, 8, 6, 8, 5, 1, 3, 0, 0, 2, 8, 0, 2, 2,\n",
       "       0, 5, 2, 4, 2, 6, 5, 7, 2, 8])"
      ]
     },
     "execution_count": 22,
     "metadata": {},
     "output_type": "execute_result"
    }
   ],
   "source": [
    "y_test"
   ]
  },
  {
   "cell_type": "code",
   "execution_count": 23,
   "metadata": {},
   "outputs": [
    {
     "data": {
      "text/plain": [
       "0.9933333333333333"
      ]
     },
     "execution_count": 23,
     "metadata": {},
     "output_type": "execute_result"
    }
   ],
   "source": [
    "grid_search.score(X_test, y_test)"
   ]
  },
  {
   "cell_type": "code",
   "execution_count": 24,
   "metadata": {},
   "outputs": [
    {
     "data": {
      "text/plain": [
       "SVC(C=10.0, gamma=0.001)"
      ]
     },
     "execution_count": 24,
     "metadata": {},
     "output_type": "execute_result"
    }
   ],
   "source": [
    "grid_search.best_estimator_"
   ]
  },
  {
   "cell_type": "code",
   "execution_count": 25,
   "metadata": {},
   "outputs": [
    {
     "data": {
      "text/plain": [
       "{'C': 10.0, 'gamma': 0.001}"
      ]
     },
     "execution_count": 25,
     "metadata": {},
     "output_type": "execute_result"
    }
   ],
   "source": [
    "grid_search.best_params_"
   ]
  },
  {
   "cell_type": "code",
   "execution_count": 26,
   "metadata": {},
   "outputs": [
    {
     "data": {
      "text/plain": [
       "0.9881178576345861"
      ]
     },
     "execution_count": 26,
     "metadata": {},
     "output_type": "execute_result"
    }
   ],
   "source": [
    "grid_search.best_score_ \n",
    "# Mean cross-validated score of the best_estimator"
   ]
  },
  {
   "cell_type": "code",
   "execution_count": 27,
   "metadata": {},
   "outputs": [
    {
     "name": "stdout",
     "output_type": "stream",
     "text": [
      "0.9881178576345861\n"
     ]
    }
   ],
   "source": [
    "cv_best = cross_val_score(SVC(C=10.0, gamma=0.001), X_train, y_train, cv=5)\n",
    "print(cv_best.mean())"
   ]
  },
  {
   "cell_type": "code",
   "execution_count": 28,
   "metadata": {},
   "outputs": [
    {
     "data": {
      "image/png": "[encoded data removed]",
      "text/plain": [
       "<Figure size 288x345.6 with 2 Axes>"
      ]
     },
     "metadata": {
      "needs_background": "light"
     },
     "output_type": "display_data"
    }
   ],
   "source": [
    "# We extract just the scores\n",
    "\n",
    "scores = grid_search.cv_results_['mean_test_score']\n",
    "scores = np.array(scores).reshape(6, 5)\n",
    "\n",
    "plt.matshow(scores)\n",
    "plt.xlabel('gamma')\n",
    "plt.ylabel('C')\n",
    "plt.colorbar()\n",
    "plt.xticks(np.arange(5), param_grid['gamma'])\n",
    "plt.yticks(np.arange(6), param_grid['C']);"
   ]
  },
  {
   "cell_type": "code",
   "execution_count": 29,
   "metadata": {},
   "outputs": [
    {
     "ename": "TypeError",
     "evalue": "'DataFrame' object is not callable",
     "output_type": "error",
     "traceback": [
      "\u001b[0;31m---------------------------------------------------------------------------\u001b[0m",
      "\u001b[0;31mTypeError\u001b[0m                                 Traceback (most recent call last)",
      "\u001b[0;32m/var/folders/13/6vxftn494dx09z62qly7ndxr0000gn/T/ipykernel_40036/3660628046.py\u001b[0m in \u001b[0;36m<module>\u001b[0;34m\u001b[0m\n\u001b[1;32m      1\u001b[0m \u001b[0;32mimport\u001b[0m \u001b[0mpandas\u001b[0m \u001b[0;32mas\u001b[0m \u001b[0mpd\u001b[0m\u001b[0;34m\u001b[0m\u001b[0;34m\u001b[0m\u001b[0m\n\u001b[1;32m      2\u001b[0m \u001b[0mresults\u001b[0m \u001b[0;34m=\u001b[0m \u001b[0mpd\u001b[0m\u001b[0;34m.\u001b[0m\u001b[0mDataFrame\u001b[0m\u001b[0;34m(\u001b[0m\u001b[0mgrid_search\u001b[0m\u001b[0;34m.\u001b[0m\u001b[0mcv_results_\u001b[0m\u001b[0;34m)\u001b[0m\u001b[0;34m\u001b[0m\u001b[0;34m\u001b[0m\u001b[0m\n\u001b[0;32m----> 3\u001b[0;31m \u001b[0mresults\u001b[0m\u001b[0;34m(\u001b[0m\u001b[0;34m[\u001b[0m\u001b[0;34m'mean_test_score'\u001b[0m\u001b[0;34m]\u001b[0m\u001b[0;34m)\u001b[0m\u001b[0;34m\u001b[0m\u001b[0;34m\u001b[0m\u001b[0m\n\u001b[0m",
      "\u001b[0;31mTypeError\u001b[0m: 'DataFrame' object is not callable"
     ]
    }
   ],
   "source": [
    "import pandas as pd\n",
    "results = pd.DataFrame(grid_search.cv_results_)\n",
    "results(['mean_test_score'])"
   ]
  },
  {
   "cell_type": "code",
   "execution_count": null,
   "metadata": {},
   "outputs": [],
   "source": []
  }
 ],
 "metadata": {
  "anaconda-cloud": {},
  "kernelspec": {
   "display_name": "quant-course",
   "language": "python",
   "name": "quant-course"
  },
  "language_info": {
   "codemirror_mode": {
    "name": "ipython",
    "version": 3
   },
   "file_extension": ".py",
   "mimetype": "text/x-python",
   "name": "python",
   "nbconvert_exporter": "python",
   "pygments_lexer": "ipython3",
   "version": "3.9.6"
  }
 },
 "nbformat": 4,
 "nbformat_minor": 4
}
