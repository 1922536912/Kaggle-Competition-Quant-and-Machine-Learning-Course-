{
 "cells": [
  {
   "cell_type": "markdown",
   "id": "20374b7f-7e5a-4c63-a299-90aad3b94678",
   "metadata": {},
   "source": [
    "# Kaggle Competition - Quant & Machine Learning Course\n",
    "# Tutorial 9: Stacking Models\n",
    "\n",
    "\n",
    "- resource: https://machinelearningmastery.com/stacking-ensemble-machine-learning-with-python/\n",
    "- stacking Regressor documentation https://scikit-learn.org/stable/modules/generated/sklearn.ensemble.StackingRegressor.html"
   ]
  },
  {
   "cell_type": "code",
   "execution_count": 29,
   "id": "02cf8b82-0007-4e7a-ba43-5e03c7ae6486",
   "metadata": {},
   "outputs": [],
   "source": [
    "# compare ensemble to each standalone models for regression\n",
    "from numpy import mean\n",
    "from numpy import std\n",
    "from sklearn.datasets import make_regression\n",
    "from sklearn.model_selection import cross_val_score\n",
    "from sklearn.model_selection import RepeatedKFold\n",
    "from sklearn.linear_model import LinearRegression\n",
    "from sklearn.neighbors import KNeighborsRegressor\n",
    "from sklearn.tree import DecisionTreeRegressor\n",
    "from sklearn.svm import SVR\n",
    "from sklearn.ensemble import StackingRegressor\n",
    "from matplotlib import pyplot\n",
    " \n",
    "# get the dataset\n",
    "# a simulated dataset\n",
    "def get_dataset():\n",
    "\tX, y = make_regression(n_samples=1000, n_features=20, n_informative=15, noise=0.1, random_state=1)\n",
    "\treturn X, y\n",
    " \n",
    "# get a stacking ensemble of models\n",
    "def get_stacking():\n",
    "\t# define the base models\n",
    "\tlevel0 = list()\n",
    "\tlevel0.append(('knn', KNeighborsRegressor()))\n",
    "\tlevel0.append(('cart', DecisionTreeRegressor()))\n",
    "\tlevel0.append(('svm', SVR()))\n",
    "\t# define meta learner model\n",
    "\tlevel1 = LinearRegression()\n",
    "\t# define the stacking ensemble\n",
    "\tmodel = StackingRegressor(estimators=level0, final_estimator=level1, cv=5)\n",
    "\treturn model\n",
    " \n",
    "# get a list of models to evaluate\n",
    "def get_models():\n",
    "\tmodels = dict()\n",
    "\tmodels['knn'] = KNeighborsRegressor()\n",
    "\tmodels['cart'] = DecisionTreeRegressor()\n",
    "\tmodels['svm'] = SVR()\n",
    "\tmodels['stacking'] = get_stacking()\n",
    "\treturn models\n",
    " \n",
    "# evaluate a given model using cross-validation\n",
    "def evaluate_model(model, X, y):\n",
    "\tcv = RepeatedKFold(n_splits=10, n_repeats=3, random_state=1)\n",
    "\tscores = cross_val_score(model, X, y, scoring='neg_mean_absolute_error', cv=cv, n_jobs=-1, error_score='raise')\n",
    "\treturn scores"
   ]
  },
  {
   "cell_type": "code",
   "execution_count": 33,
   "id": "c2211971-3b41-49e1-8617-4b5d7e1666fb",
   "metadata": {},
   "outputs": [
    {
     "name": "stdout",
     "output_type": "stream",
     "text": [
      "(1000, 20)\n",
      "[[ 0.59332206 -0.56637507  1.34808718 -0.57054047 -0.72480487  1.05648449\n",
      "   0.77744852  0.07361796  0.88398267  2.02843157  1.01902732  0.11227799\n",
      "   0.94218853  0.26741783  0.91458143 -0.72759572  1.08842814 -0.61450942\n",
      "  -0.69387293  1.69169009]\n",
      " [ 0.02335703  1.31289541 -0.10889847  1.29099337  0.88608992  1.04003845\n",
      "  -1.56111989  0.26486763  0.3093178   0.07983961 -0.8311734  -0.39712568\n",
      "   0.31897183  0.52795055 -0.56398646  0.93755484  2.91730876  0.57326545\n",
      "   1.15321262  1.0986885 ]]\n",
      "[419.49285417 524.80418832]\n"
     ]
    }
   ],
   "source": [
    "# define dataset\n",
    "X, y = get_dataset()\n",
    "print(X.shape)\n",
    "print(X[:2])\n",
    "print(y[:2])"
   ]
  },
  {
   "cell_type": "code",
   "execution_count": 23,
   "id": "61007dce-53a5-4c8a-97cf-acb191b83002",
   "metadata": {},
   "outputs": [
    {
     "name": "stdout",
     "output_type": "stream",
     "text": [
      ">knn -101.019 (7.161)\n",
      ">cart -147.693 (10.480)\n",
      ">svm -162.419 (12.565)\n",
      ">stacking -56.652 (5.325)\n"
     ]
    },
    {
     "data": {
      "image/png": "[encoded data removed]",
      "text/plain": [
       "<Figure size 432x288 with 1 Axes>"
      ]
     },
     "metadata": {
      "needs_background": "light"
     },
     "output_type": "display_data"
    }
   ],
   "source": [
    "# get the models to evaluate\n",
    "models = get_models()\n",
    "# evaluate the models and store results\n",
    "results, names = list(), list()\n",
    "for name, model in models.items():\n",
    "\tscores = evaluate_model(model, X, y)\n",
    "\tresults.append(scores)\n",
    "\tnames.append(name)\n",
    "\tprint('>%s %.3f (%.3f)' % (name, mean(scores), std(scores)))\n",
    "# plot model performance for comparison\n",
    "pyplot.boxplot(results, labels=names, showmeans=True)\n",
    "pyplot.show()"
   ]
  },
  {
   "cell_type": "code",
   "execution_count": 42,
   "id": "ef0ffa34-5062-4157-9f26-5ed27ee967f7",
   "metadata": {},
   "outputs": [],
   "source": [
    "from sklearn.model_selection import train_test_split\n",
    "X_train, X_test, y_train, y_test = train_test_split(X, y, random_state=0)"
   ]
  },
  {
   "cell_type": "code",
   "execution_count": 43,
   "id": "cff047ea-a2b0-42c4-a4fc-e879318016a0",
   "metadata": {},
   "outputs": [
    {
     "data": {
      "text/plain": [
       "StackingRegressor(cv=5,\n",
       "                  estimators=[('knn', KNeighborsRegressor()),\n",
       "                              ('cart', DecisionTreeRegressor()),\n",
       "                              ('svm', SVR())],\n",
       "                  final_estimator=LinearRegression())"
      ]
     },
     "execution_count": 43,
     "metadata": {},
     "output_type": "execute_result"
    }
   ],
   "source": [
    "models['stacking'].fit(X_train,y_train)"
   ]
  },
  {
   "cell_type": "code",
   "execution_count": 44,
   "id": "a2e533d0-92cd-4008-a8a4-d19d08c662a3",
   "metadata": {},
   "outputs": [
    {
     "data": {
      "text/plain": [
       "array([1.01423846, 0.17970482, 6.08191338])"
      ]
     },
     "execution_count": 44,
     "metadata": {},
     "output_type": "execute_result"
    }
   ],
   "source": [
    "models['stacking'].final_estimator_.coef_"
   ]
  },
  {
   "cell_type": "code",
   "execution_count": 45,
   "id": "b2be4a8c-a6c7-479d-8804-13a73fe9bcc1",
   "metadata": {},
   "outputs": [
    {
     "data": {
      "text/plain": [
       "-5.0905420215851"
      ]
     },
     "execution_count": 45,
     "metadata": {},
     "output_type": "execute_result"
    }
   ],
   "source": [
    "models['stacking'].final_estimator_.intercept_"
   ]
  },
  {
   "cell_type": "code",
   "execution_count": 70,
   "id": "268feaf8-ed54-4c6f-86f9-d9dc0a77e504",
   "metadata": {},
   "outputs": [
    {
     "data": {
      "text/plain": [
       "0.6073975995197729"
      ]
     },
     "execution_count": 70,
     "metadata": {},
     "output_type": "execute_result"
    }
   ],
   "source": [
    "models['knn'].fit(X_train,y_train)\n",
    "y_pred_knn = models['knn'].predict(X_test)\n",
    "models['knn'].score(X_test,y_test)"
   ]
  },
  {
   "cell_type": "code",
   "execution_count": 71,
   "id": "2df1d013-efa0-4075-87ce-2cee7c2e4f34",
   "metadata": {},
   "outputs": [
    {
     "data": {
      "text/plain": [
       "0.2629361204445687"
      ]
     },
     "execution_count": 71,
     "metadata": {},
     "output_type": "execute_result"
    }
   ],
   "source": [
    "models['cart'].fit(X_train,y_train)\n",
    "y_pred_cart = models['knn'].predict(X_test)\n",
    "models['cart'].score(X_test,y_test)"
   ]
  },
  {
   "cell_type": "code",
   "execution_count": 72,
   "id": "5a2bb47b-bf80-4d71-913f-947a20ed4261",
   "metadata": {},
   "outputs": [
    {
     "data": {
      "text/plain": [
       "0.07672925759301452"
      ]
     },
     "execution_count": 72,
     "metadata": {},
     "output_type": "execute_result"
    }
   ],
   "source": [
    "models['svm'].fit(X_train,y_train)\n",
    "y_pred_svm = models['svm'].predict(X_test)\n",
    "models['svm'].score(X_test,y_test)"
   ]
  },
  {
   "cell_type": "code",
   "execution_count": 73,
   "id": "8edd97cd-3139-488f-aba1-a85fd6877d13",
   "metadata": {},
   "outputs": [
    {
     "data": {
      "text/plain": [
       "0.8104474303707823"
      ]
     },
     "execution_count": 73,
     "metadata": {},
     "output_type": "execute_result"
    }
   ],
   "source": [
    "y_pred = models['stacking'].predict(X_test)\n",
    "models['stacking'].score(X_test,y_test)"
   ]
  },
  {
   "cell_type": "code",
   "execution_count": null,
   "id": "858e9ba4-a3f6-4014-b32d-3fe92d0a83db",
   "metadata": {},
   "outputs": [],
   "source": []
  }
 ],
 "metadata": {
  "kernelspec": {
   "display_name": "quant-course",
   "language": "python",
   "name": "quant-course"
  },
  "language_info": {
   "codemirror_mode": {
    "name": "ipython",
    "version": 3
   },
   "file_extension": ".py",
   "mimetype": "text/x-python",
   "name": "python",
   "nbconvert_exporter": "python",
   "pygments_lexer": "ipython3",
   "version": "3.9.6"
  }
 },
 "nbformat": 4,
 "nbformat_minor": 5
}
